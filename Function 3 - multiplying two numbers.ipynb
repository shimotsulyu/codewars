{
 "cells": [
  {
   "cell_type": "markdown",
   "id": "stupid-spell",
   "metadata": {},
   "source": [
    "## Function 3 - multiplying two numbers\n",
    "Implement a function which multiplies two numbers."
   ]
  },
  {
   "cell_type": "code",
   "execution_count": null,
   "id": "artistic-balance",
   "metadata": {},
   "outputs": [],
   "source": [
    "def multiply(a,b):\n",
    "    return a*b"
   ]
  }
 ],
 "metadata": {
  "kernelspec": {
   "display_name": "Python 3.6",
   "language": "python",
   "name": "python3.6"
  },
  "language_info": {
   "codemirror_mode": {
    "name": "ipython",
    "version": 3
   },
   "file_extension": ".py",
   "mimetype": "text/x-python",
   "name": "python",
   "nbconvert_exporter": "python",
   "pygments_lexer": "ipython3",
   "version": "3.6.9"
  }
 },
 "nbformat": 4,
 "nbformat_minor": 5
}
