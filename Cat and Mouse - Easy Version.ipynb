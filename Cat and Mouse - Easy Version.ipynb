{
 "cells": [
  {
   "cell_type": "markdown",
   "id": "cordless-constraint",
   "metadata": {},
   "source": [
    "You will be given a string (x) featuring a cat 'C' and a mouse 'm'. The rest of the string will be made up of '.'.\n",
    "\n",
    "You need to find out if the cat can catch the mouse from it's current position. The cat can jump over three characters. So:\n",
    "\n",
    "C.....m returns 'Escaped!' <-- more than three characters between\n",
    "\n",
    "C...m returns 'Caught!' <-- as there are three characters between the two, the cat can jump."
   ]
  },
  {
   "cell_type": "code",
   "execution_count": 4,
   "id": "boring-tooth",
   "metadata": {},
   "outputs": [],
   "source": [
    "def cat_mouse(x):\n",
    "    return 'Caught!' if x.count('.')<=3 else 'Escaped!'"
   ]
  }
 ],
 "metadata": {
  "kernelspec": {
   "display_name": "Python 3.6",
   "language": "python",
   "name": "python3.6"
  },
  "language_info": {
   "codemirror_mode": {
    "name": "ipython",
    "version": 3
   },
   "file_extension": ".py",
   "mimetype": "text/x-python",
   "name": "python",
   "nbconvert_exporter": "python",
   "pygments_lexer": "ipython3",
   "version": "3.6.9"
  }
 },
 "nbformat": 4,
 "nbformat_minor": 5
}
