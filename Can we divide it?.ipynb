{
 "cells": [
  {
   "cell_type": "markdown",
   "id": "exclusive-islam",
   "metadata": {},
   "source": [
    "Your task is to create functionisDivideBy (or is_divide_by) to check if an integer number is divisible by each out of two arguments.\n",
    "\n",
    "A few cases:\n",
    "\n",
    "```\n",
    "(-12, 2, -6)  ->  true\n",
    "(-12, 2, -5)  ->  false\n",
    "\n",
    "(45, 1, 6)    ->  false\n",
    "(45, 5, 15)   ->  true\n",
    "\n",
    "(4, 1, 4)     ->  true\n",
    "(15, -5, 3)   ->  true\n",
    "\n",
    "```"
   ]
  },
  {
   "cell_type": "code",
   "execution_count": null,
   "id": "spectacular-fraud",
   "metadata": {},
   "outputs": [],
   "source": [
    "def is_divide_by(number, a, b):\n",
    "    return number%a==0 and number%b==0"
   ]
  }
 ],
 "metadata": {
  "kernelspec": {
   "display_name": "Python 3.6",
   "language": "python",
   "name": "python3.6"
  },
  "language_info": {
   "codemirror_mode": {
    "name": "ipython",
    "version": 3
   },
   "file_extension": ".py",
   "mimetype": "text/x-python",
   "name": "python",
   "nbconvert_exporter": "python",
   "pygments_lexer": "ipython3",
   "version": "3.6.9"
  }
 },
 "nbformat": 4,
 "nbformat_minor": 5
}
