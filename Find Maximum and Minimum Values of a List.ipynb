{
 "cells": [
  {
   "cell_type": "markdown",
   "id": "favorite-questionnaire",
   "metadata": {},
   "source": [
    "Your task is to make two functions, max and min (maximum and minimum in PHP and Python, maxi and mini in Julia) that take a(n) array/vector of integers list as input and outputs, respectively, the largest and lowest number in that array/vector.\n",
    "\n",
    "#Examples\n",
    "```\n",
    "max([4,6,2,1,9,63,-134,566]) returns 566\n",
    "min([-52, 56, 30, 29, -54, 0, -110]) returns -110\n",
    "max([5]) returns 5\n",
    "min([42, 54, 65, 87, 0]) returns 0\n",
    "#Notes\n",
    "```\n",
    "You may consider that there will not be any empty arrays/vectors."
   ]
  },
  {
   "cell_type": "code",
   "execution_count": null,
   "id": "opposed-nowhere",
   "metadata": {},
   "outputs": [],
   "source": [
    "def minimum(arr):\n",
    "    return min(arr)\n",
    "\n",
    "def maximum(arr):\n",
    "    return max(arr)"
   ]
  }
 ],
 "metadata": {
  "kernelspec": {
   "display_name": "Python 3.6",
   "language": "python",
   "name": "python3.6"
  },
  "language_info": {
   "codemirror_mode": {
    "name": "ipython",
    "version": 3
   },
   "file_extension": ".py",
   "mimetype": "text/x-python",
   "name": "python",
   "nbconvert_exporter": "python",
   "pygments_lexer": "ipython3",
   "version": "3.6.9"
  }
 },
 "nbformat": 4,
 "nbformat_minor": 5
}
