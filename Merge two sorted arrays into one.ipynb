{
 "cells": [
  {
   "cell_type": "markdown",
   "id": "killing-canadian",
   "metadata": {},
   "source": [
    "## Merge two sorted arrays into one\n",
    "You are given two sorted arrays that both only contain integers. Your task is to find a way to merge them into a single one, sorted in asc order. Complete the function mergeArrays(arr1, arr2), where arr1 and arr2 are the original sorted arrays.\n",
    "\n",
    "You don't need to worry about validation, since arr1 and arr2 must be arrays with 0 or more Integers. If both arr1 and arr2 are empty, then just return an empty array.\n",
    "\n",
    "Note: arr1 and arr2 may be sorted in different orders. Also arr1 and arr2 may have same integers. Remove duplicated in the returned result.\n",
    "\n",
    "Examples\n",
    "```\n",
    "arr1 = [1, 2, 3, 4, 5];\n",
    "arr2 = [6, 7, 8, 9, 10];\n",
    "mergeArrays(arr1, arr2);  // [1, 2, 3, 4, 5, 6, 7, 8, 9, 10]\n",
    "\n",
    "arr3 = [1, 3, 5, 7, 9];\n",
    "arr4 = [10, 8, 6, 4, 2];\n",
    "mergeArrays(arr3, arr4);  // [1, 2, 3, 4, 5, 6, 7, 8, 9, 10]\n",
    "\n",
    "arr5 = [1, 3, 5, 7, 9, 11, 12];\n",
    "arr6 = [1, 2, 3, 4, 5, 10, 12];\n",
    "mergeArrays(arr5, arr6);  // [1, 2, 3, 4, 5, 7, 9, 10, 11, 12]\n",
    "```"
   ]
  },
  {
   "cell_type": "code",
   "execution_count": 1,
   "id": "genetic-three",
   "metadata": {},
   "outputs": [],
   "source": [
    "def merge_arrays(arr1, arr2):\n",
    "    return sorted(set(arr1+arr2))"
   ]
  }
 ],
 "metadata": {
  "kernelspec": {
   "display_name": "Python 3.6",
   "language": "python",
   "name": "python3.6"
  },
  "language_info": {
   "codemirror_mode": {
    "name": "ipython",
    "version": 3
   },
   "file_extension": ".py",
   "mimetype": "text/x-python",
   "name": "python",
   "nbconvert_exporter": "python",
   "pygments_lexer": "ipython3",
   "version": "3.6.9"
  }
 },
 "nbformat": 4,
 "nbformat_minor": 5
}
