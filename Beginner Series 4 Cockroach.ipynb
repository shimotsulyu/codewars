{
 "cells": [
  {
   "cell_type": "markdown",
   "id": "ruled-yugoslavia",
   "metadata": {},
   "source": [
    "The cockroach is one of the fastest insects. Write a function which takes its speed in km per hour and returns it in cm per second, rounded down to the integer (= floored).\n",
    "\n",
    "For example:\n",
    "\n",
    "> cockroach_speed(1.08) == 30\n",
    "\n",
    "Note! The input is a Real number (actual type is language dependent) and is >= 0. The result should be an Integer."
   ]
  },
  {
   "cell_type": "code",
   "execution_count": null,
   "id": "interior-honor",
   "metadata": {},
   "outputs": [],
   "source": [
    "def cockroach_speed(s):\n",
    "    return s//0.036"
   ]
  }
 ],
 "metadata": {
  "kernelspec": {
   "display_name": "Python 3.6",
   "language": "python",
   "name": "python3.6"
  },
  "language_info": {
   "codemirror_mode": {
    "name": "ipython",
    "version": 3
   },
   "file_extension": ".py",
   "mimetype": "text/x-python",
   "name": "python",
   "nbconvert_exporter": "python",
   "pygments_lexer": "ipython3",
   "version": "3.6.9"
  }
 },
 "nbformat": 4,
 "nbformat_minor": 5
}
