{
 "cells": [
  {
   "cell_type": "markdown",
   "id": "quarterly-dublin",
   "metadata": {},
   "source": [
    "Paul is an excellent coder and sits high on the CW leaderboard. He solves kata like a banshee but would also like to lead a normal life, with other activities. But he just can't stop solving all the kata!!\n",
    "\n",
    "Given an array (x) you need to calculate the Paul Misery Score. The values are worth the following points:\n",
    "\n",
    "\n",
    "kata = 5\n",
    "Petes kata = 10\n",
    "life = 0\n",
    "eating = 1\n",
    "\n",
    "\n",
    "The Misery Score is the total points gained from the array. Once you have the total, return as follows:\n",
    "\n",
    "< 40 = 'Super happy!'\n",
    "< 70 >= 40 = 'Happy!'\n",
    "< 100 >= 70 = 'Sad!'\n",
    "> 100 = 'Miserable!'"
   ]
  },
  {
   "cell_type": "code",
   "execution_count": 7,
   "id": "australian-turkey",
   "metadata": {},
   "outputs": [],
   "source": [
    "def paul(x):\n",
    "    n = sum([{'kata':5,'Petes kata':10,'life':0,'eating':1}[i] for i in x])\n",
    "    return ('Super happy!' if n<40 else \n",
    "            'Happy!' if n<70 else \n",
    "            'Sad!' if n<100 else \n",
    "            'Miserable!')"
   ]
  },
  {
   "cell_type": "code",
   "execution_count": null,
   "id": "typical-thirty",
   "metadata": {},
   "outputs": [],
   "source": []
  }
 ],
 "metadata": {
  "kernelspec": {
   "display_name": "Python 3.6",
   "language": "python",
   "name": "python3.6"
  },
  "language_info": {
   "codemirror_mode": {
    "name": "ipython",
    "version": 3
   },
   "file_extension": ".py",
   "mimetype": "text/x-python",
   "name": "python",
   "nbconvert_exporter": "python",
   "pygments_lexer": "ipython3",
   "version": "3.6.9"
  }
 },
 "nbformat": 4,
 "nbformat_minor": 5
}
