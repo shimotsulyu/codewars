{
 "cells": [
  {
   "cell_type": "markdown",
   "id": "detected-casino",
   "metadata": {},
   "source": [
    "Complete the function that accepts a valid string and returns an integer.\n",
    "\n",
    "Wait, that would be too easy! Every character of the string should be converted to the hex value of its ascii code, then the result should be the sum of the numbers in the hex strings (ignore letters).\n",
    "\n",
    "Examples\n",
    "```\n",
    "\"Yo\" ==> \"59 6f\" ==> 5 + 9 + 6 = 20\n",
    "\"Hello, World!\"  ==> 91\n",
    "\"Forty4Three\"    ==> 113\n",
    "```"
   ]
  },
  {
   "cell_type": "code",
   "execution_count": null,
   "id": "accomplished-defendant",
   "metadata": {},
   "outputs": [],
   "source": [
    "def hex_hash(code):\n",
    "    s=0\n",
    "    for i in code.encode(\"utf-8\").hex():\n",
    "        try: s+=int(i)\n",
    "        except: pass\n",
    "    return s"
   ]
  }
 ],
 "metadata": {
  "kernelspec": {
   "display_name": "Python 3.6",
   "language": "python",
   "name": "python3.6"
  },
  "language_info": {
   "codemirror_mode": {
    "name": "ipython",
    "version": 3
   },
   "file_extension": ".py",
   "mimetype": "text/x-python",
   "name": "python",
   "nbconvert_exporter": "python",
   "pygments_lexer": "ipython3",
   "version": "3.6.9"
  }
 },
 "nbformat": 4,
 "nbformat_minor": 5
}
