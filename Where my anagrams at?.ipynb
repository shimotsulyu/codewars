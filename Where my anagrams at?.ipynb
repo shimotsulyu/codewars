{
 "cells": [
  {
   "cell_type": "markdown",
   "id": "polish-sitting",
   "metadata": {},
   "source": [
    "# What is an anagram? Well, two words are anagrams of each other if they both contain the same letters. For example:\n",
    "\n",
    "'abba' & 'baab' == true\n",
    "\n",
    "'abba' & 'bbaa' == true\n",
    "\n",
    "'abba' & 'abbba' == false\n",
    "\n",
    "'abba' & 'abca' == false\n",
    "\n",
    "Write a function that will find all the anagrams of a word from a list. You will be given two inputs a word and an array with words. You should return an array of all the anagrams or an empty array if there are none. For example:\n",
    "\n",
    "anagrams('abba', ['aabb', 'abcd', 'bbaa', 'dada']) => ['aabb', 'bbaa']\n",
    "\n",
    "anagrams('racer', ['crazer', 'carer', 'racar', 'caers', 'racer']) => ['carer', 'racer']\n",
    "\n",
    "anagrams('laser', ['lazing', 'lazy',  'lacer']) => []\n"
   ]
  },
  {
   "cell_type": "code",
   "execution_count": 19,
   "id": "premier-magnitude",
   "metadata": {},
   "outputs": [
    {
     "data": {
      "text/plain": [
       "True"
      ]
     },
     "execution_count": 19,
     "metadata": {},
     "output_type": "execute_result"
    }
   ],
   "source": [
    "def anagrams(word, words):\n",
    "    return [s for s in words if sorted(word) == sorted(s)]\n",
    "    \n",
    "anagrams('abba', ['aabb', 'abcd', 'bbaa', 'dada'])==['aabb', 'bbaa']\n",
    "#anagrams('racer', ['crazer', 'carer', 'racar', 'caers', 'racer'])==['carer', 'racer']"
   ]
  },
  {
   "cell_type": "code",
   "execution_count": null,
   "id": "catholic-atlas",
   "metadata": {},
   "outputs": [],
   "source": []
  }
 ],
 "metadata": {
  "kernelspec": {
   "display_name": "Python 3.6",
   "language": "python",
   "name": "python3.6"
  },
  "language_info": {
   "codemirror_mode": {
    "name": "ipython",
    "version": 3
   },
   "file_extension": ".py",
   "mimetype": "text/x-python",
   "name": "python",
   "nbconvert_exporter": "python",
   "pygments_lexer": "ipython3",
   "version": "3.6.9"
  }
 },
 "nbformat": 4,
 "nbformat_minor": 5
}
