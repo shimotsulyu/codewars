{
 "cells": [
  {
   "cell_type": "markdown",
   "id": "dimensional-international",
   "metadata": {},
   "source": [
    "A hero is on his way to the castle to complete his mission. However, he's been told that the castle is surrounded with a couple of powerful dragons! each dragon takes 2 bullets to be defeated, our hero has no idea how many bullets he should carry.. Assuming he's gonna grab a specific given number of bullets and move forward to fight another specific given number of dragons, will he survive?\n",
    "\n",
    "Return True if yes, False otherwise :)"
   ]
  },
  {
   "cell_type": "code",
   "execution_count": null,
   "id": "printable-claim",
   "metadata": {},
   "outputs": [],
   "source": [
    "def hero(bullets, dragons):\n",
    "    return bullets>=2*dragons"
   ]
  }
 ],
 "metadata": {
  "kernelspec": {
   "display_name": "Python 3.6",
   "language": "python",
   "name": "python3.6"
  },
  "language_info": {
   "codemirror_mode": {
    "name": "ipython",
    "version": 3
   },
   "file_extension": ".py",
   "mimetype": "text/x-python",
   "name": "python",
   "nbconvert_exporter": "python",
   "pygments_lexer": "ipython3",
   "version": "3.6.9"
  }
 },
 "nbformat": 4,
 "nbformat_minor": 5
}
