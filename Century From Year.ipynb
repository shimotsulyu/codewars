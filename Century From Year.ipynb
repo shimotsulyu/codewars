{
 "cells": [
  {
   "cell_type": "markdown",
   "id": "colored-eight",
   "metadata": {},
   "source": [
    "### Introduction\n",
    "\n",
    "The first century spans from the year 1 up to and including the year 100, The second - from the year 101 up to and including the year 200, etc.\n",
    "\n",
    "### Task :\n",
    "\n",
    "Given a year, return the century it is in.\n",
    "\n",
    "#### Input , Output Examples ::\n",
    "```\n",
    "centuryFromYear(1705)  returns (18)\n",
    "centuryFromYear(1900)  returns (19)\n",
    "centuryFromYear(1601)  returns (17)\n",
    "centuryFromYear(2000)  returns (20)\n",
    "```\n",
    "Hope you enjoy it .. Awaiting for Best Practice Codes\n",
    "\n",
    "Enjoy Learning !!!"
   ]
  },
  {
   "cell_type": "code",
   "execution_count": null,
   "id": "valued-imaging",
   "metadata": {},
   "outputs": [],
   "source": [
    "def century(year):\n",
    "    return year//100 if year%100==0 else (year//100)+1"
   ]
  }
 ],
 "metadata": {
  "kernelspec": {
   "display_name": "Python 3.6",
   "language": "python",
   "name": "python3.6"
  },
  "language_info": {
   "codemirror_mode": {
    "name": "ipython",
    "version": 3
   },
   "file_extension": ".py",
   "mimetype": "text/x-python",
   "name": "python",
   "nbconvert_exporter": "python",
   "pygments_lexer": "ipython3",
   "version": "3.6.9"
  }
 },
 "nbformat": 4,
 "nbformat_minor": 5
}
