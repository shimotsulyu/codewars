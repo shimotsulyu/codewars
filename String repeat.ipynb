{
 "cells": [
  {
   "cell_type": "markdown",
   "id": "emerging-factor",
   "metadata": {},
   "source": [
    "Write a function called repeat_string which repeats the given string str exactly count times.\n",
    "```\n",
    "repeatStr(6, \"I\") // \"IIIIII\"\n",
    "repeatStr(5, \"Hello\") // \"HelloHelloHelloHelloHello\"\n",
    "```"
   ]
  },
  {
   "cell_type": "code",
   "execution_count": null,
   "id": "residential-discretion",
   "metadata": {},
   "outputs": [],
   "source": [
    "def repeat_str(repeat, string):\n",
    "    return string*repeat"
   ]
  }
 ],
 "metadata": {
  "kernelspec": {
   "display_name": "Python 3.6",
   "language": "python",
   "name": "python3.6"
  },
  "language_info": {
   "codemirror_mode": {
    "name": "ipython",
    "version": 3
   },
   "file_extension": ".py",
   "mimetype": "text/x-python",
   "name": "python",
   "nbconvert_exporter": "python",
   "pygments_lexer": "ipython3",
   "version": "3.6.9"
  }
 },
 "nbformat": 4,
 "nbformat_minor": 5
}
