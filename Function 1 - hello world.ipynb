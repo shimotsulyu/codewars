{
 "cells": [
  {
   "cell_type": "markdown",
   "id": "searching-policy",
   "metadata": {},
   "source": [
    "## Function 1 - hello world\n",
    "Make a simple function called greet that returns the most-famous \"hello world!\".\n",
    "\n",
    "Style Points\n",
    "Sure, this is about as easy as it gets. But how clever can you be to create the most creative hello world you can think of? What is a \"hello world\" solution you would want to show your friends?"
   ]
  },
  {
   "cell_type": "code",
   "execution_count": null,
   "id": "genuine-guess",
   "metadata": {},
   "outputs": [],
   "source": [
    "def greet():\n",
    "    return 'hello world!'"
   ]
  }
 ],
 "metadata": {
  "kernelspec": {
   "display_name": "Python 3.6",
   "language": "python",
   "name": "python3.6"
  },
  "language_info": {
   "codemirror_mode": {
    "name": "ipython",
    "version": 3
   },
   "file_extension": ".py",
   "mimetype": "text/x-python",
   "name": "python",
   "nbconvert_exporter": "python",
   "pygments_lexer": "ipython3",
   "version": "3.6.9"
  }
 },
 "nbformat": 4,
 "nbformat_minor": 5
}
