{
 "cells": [
  {
   "cell_type": "markdown",
   "id": "current-representation",
   "metadata": {},
   "source": [
    "## Build Tower\n",
    "Build Tower by the following given argument:\n",
    "number of floors (integer and always greater than 0).\n",
    "\n",
    "Tower block is represented as *\n",
    "\n",
    "- Python: return a list;\n",
    "- JavaScript: returns an Array;\n",
    "- C#: returns a string[];\n",
    "- PHP: returns an array;\n",
    "- C++: returns a vector<string>;\n",
    "- Haskell: returns a [String];\n",
    "- Ruby: returns an Array;\n",
    "- Lua: returns a Table;\n",
    "- Have fun!\n",
    "\n",
    "for example, a tower of 3 floors looks like below\n",
    "```\n",
    "[\n",
    "  '  *  ', \n",
    "  ' *** ', \n",
    "  '*****'\n",
    "]\n",
    "```\n",
    "and a tower of 6 floors looks like below\n",
    "```\n",
    "[\n",
    "  '     *     ', \n",
    "  '    ***    ', \n",
    "  '   *****   ', \n",
    "  '  *******  ', \n",
    "  ' ********* ', \n",
    "  '***********'\n",
    "]\n",
    "```"
   ]
  },
  {
   "cell_type": "code",
   "execution_count": null,
   "id": "naked-partner",
   "metadata": {},
   "outputs": [],
   "source": [
    "def tower_builder(n_floors):\n",
    "    return [(\"*\" * (i*2-1)).center(n_floors*2-1) for i in range(1, n_floors+1)]"
   ]
  }
 ],
 "metadata": {
  "kernelspec": {
   "display_name": "Python 3.6",
   "language": "python",
   "name": "python3.6"
  },
  "language_info": {
   "codemirror_mode": {
    "name": "ipython",
    "version": 3
   },
   "file_extension": ".py",
   "mimetype": "text/x-python",
   "name": "python",
   "nbconvert_exporter": "python",
   "pygments_lexer": "ipython3",
   "version": "3.6.9"
  }
 },
 "nbformat": 4,
 "nbformat_minor": 5
}
