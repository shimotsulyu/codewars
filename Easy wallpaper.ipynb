{
 "cells": [
  {
   "cell_type": "markdown",
   "id": "successful-regulation",
   "metadata": {},
   "source": [
    "John wants to decorate a room with wallpaper. He wants a fool-proof method for getting it right.\n",
    "\n",
    "John knows that the rectangular room has a length of l meters, a width of w meters, a height of h meters. The standard width of the rolls he wants to buy is 52 centimeters. The length of a roll is 10 meters. He bears in mind however, that it’s best to have an extra length of wallpaper handy in case of mistakes or miscalculations so he wants to buy a length 15% greater than the one he needs.\n",
    "\n",
    "Last time he did these calculations he got a headache, so could you help John?\n",
    "\n",
    "Task\n",
    "Your function wallpaper(l, w, h) should return as a plain English word in lower case the number of rolls he must buy.\n",
    "\n",
    "Example:\n",
    "> wallpaper(4.0, 3.5, 3.0) should return \"ten\"\n",
    "\n",
    "> wallpaper(0.0, 3.5, 3.0) should return \"zero\"\n",
    "\n",
    "Notes:\n",
    "- all rolls (even with incomplete width) are put edge to edge\n",
    "\n",
    "- 0 <= l, w, h (floating numbers); it can happens that w * h * l is zero\n",
    "\n",
    "- the integer r (number of rolls) will always be less or equal to 20\n",
    "\n",
    "- FORTH: the number of rolls will be a positive or null integer (not a plain English word; this number can be greater than 20)\n",
    "\n",
    "- In Javascript English numbers are preloaded and can be accessed as:\n",
    "\n",
    "> numbers = [\"zero\", \"one\", \"two\", \"three\", \"four\", \"five\", \"six\", \"seven\", \"eight\", \"nine\", \"ten\", \"eleven\", \"twelve\",\"thirteen\", \"fourteen\", \"fifteen\", \"sixteen\", \"seventeen\", \"eighteen\", \"nineteen\", \"twenty\"]\n",
    "For other languages it is not preloaded but you can use the above one if you need it."
   ]
  },
  {
   "cell_type": "code",
   "execution_count": null,
   "id": "logical-programmer",
   "metadata": {},
   "outputs": [],
   "source": [
    "numbers = [\"zero\", \"one\", \"two\", \"three\", \"four\", \"five\", \"six\", \"seven\", \"eight\", \"nine\", \"ten\", \"eleven\", \"twelve\",\"thirteen\", \"fourteen\", \"fifteen\", \"sixteen\", \"seventeen\", \"eighteen\", \"nineteen\", \"twenty\"]\n",
    "def wallpaper(l, w, h):\n",
    "    if l*w*h == 0: return numbers[0]\n",
    "    return numbers[int(2*((l*h)/(0.52*10))*1.15+2*((w*h)/(0.52*10))*1.15)+1] if (2*((l*h)/(0.52*10))*1.15+2*((w*h)/(0.52*10))*1.15)%int(2*((l*h)/(0.52*10))*1.15+2*((w*h)/(0.52*10))*1.15)!=0 else numbers[int(2*((l*h)/(0.52*10))*1.15+2*((w*h)/(0.52*10))*1.15)]"
   ]
  }
 ],
 "metadata": {
  "kernelspec": {
   "display_name": "Python 3.6",
   "language": "python",
   "name": "python3.6"
  },
  "language_info": {
   "codemirror_mode": {
    "name": "ipython",
    "version": 3
   },
   "file_extension": ".py",
   "mimetype": "text/x-python",
   "name": "python",
   "nbconvert_exporter": "python",
   "pygments_lexer": "ipython3",
   "version": "3.6.9"
  }
 },
 "nbformat": 4,
 "nbformat_minor": 5
}
