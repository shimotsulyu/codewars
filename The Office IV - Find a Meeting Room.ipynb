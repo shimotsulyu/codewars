{
 "cells": [
  {
   "cell_type": "markdown",
   "id": "superior-preliminary",
   "metadata": {},
   "source": [
    "Your job at E-Corp is both boring and difficult. It isn't made any easier by the fact that everyone constantly wants to have a meeting with you, and that the meeting rooms are always taken!\n",
    "\n",
    "In this kata, you will be given an array. Each value represents a meeting room. Your job? Find the first empty one and return its index (N.B. There may be more than one empty room in some test cases).\n",
    "\n",
    "'X' --> busy 'O' --> empty\n",
    "\n",
    "If all rooms are busy, return -1.\n",
    "If all rooms are busy, return 'None available!'.\n",
    "\n",
    "More in this series:\n",
    "\n",
    "The Office I - Outed\n",
    "The Office II - Boredeom Score\n",
    "The Office III - Broken Photocopier\n",
    "The Office V - Find a Chair"
   ]
  },
  {
   "cell_type": "code",
   "execution_count": 11,
   "id": "affiliated-rough",
   "metadata": {},
   "outputs": [
    {
     "data": {
      "text/plain": [
       "1"
      ]
     },
     "execution_count": 11,
     "metadata": {},
     "output_type": "execute_result"
    }
   ],
   "source": [
    "def meeting(rooms):\n",
    "    return 'None available!' if 'O' not in rooms else rooms.index('O')"
   ]
  },
  {
   "cell_type": "code",
   "execution_count": null,
   "id": "blind-casino",
   "metadata": {},
   "outputs": [],
   "source": []
  }
 ],
 "metadata": {
  "kernelspec": {
   "display_name": "Python 3.6",
   "language": "python",
   "name": "python3.6"
  },
  "language_info": {
   "codemirror_mode": {
    "name": "ipython",
    "version": 3
   },
   "file_extension": ".py",
   "mimetype": "text/x-python",
   "name": "python",
   "nbconvert_exporter": "python",
   "pygments_lexer": "ipython3",
   "version": "3.6.9"
  }
 },
 "nbformat": 4,
 "nbformat_minor": 5
}
