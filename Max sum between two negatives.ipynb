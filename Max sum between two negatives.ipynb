{
 "cells": [
  {
   "cell_type": "markdown",
   "id": "controlling-wonder",
   "metadata": {},
   "source": [
    "You have a list of integers. The task is to return the maximum sum of the elements located between two negative elements, or -1, Nothing, or a similar empty value, if there is no such sum. No negative element should be present in this sum.\n",
    "\n",
    "Example:\n",
    "\n",
    "[4, -1, 6, -2, 3, 5, -7, 7] -> 8"
   ]
  },
  {
   "cell_type": "code",
   "execution_count": 24,
   "id": "painful-particular",
   "metadata": {},
   "outputs": [
    {
     "data": {
      "text/plain": [
       "(8, 8)"
      ]
     },
     "execution_count": 24,
     "metadata": {},
     "output_type": "execute_result"
    }
   ],
   "source": [
    "def max_sum_between_two_negatives(arr):\n",
    "    negative=[i for i in range(len(arr)) if arr[i]<0]\n",
    "    if len(negative)<=1: return -1\n",
    "    s = 0\n",
    "    for i in range(len(negative)-1):\n",
    "        S=sum(arr[negative[i]+1:negative[i+1]])\n",
    "        if s < S: s = S\n",
    "    return s\n",
    "\n",
    "max_sum_between_two_negatives([-1,6,-2,3,5,-7]), 8"
   ]
  },
  {
   "cell_type": "code",
   "execution_count": null,
   "id": "pleasant-christmas",
   "metadata": {},
   "outputs": [],
   "source": []
  }
 ],
 "metadata": {
  "kernelspec": {
   "display_name": "Python 3.6",
   "language": "python",
   "name": "python3.6"
  },
  "language_info": {
   "codemirror_mode": {
    "name": "ipython",
    "version": 3
   },
   "file_extension": ".py",
   "mimetype": "text/x-python",
   "name": "python",
   "nbconvert_exporter": "python",
   "pygments_lexer": "ipython3",
   "version": "3.6.9"
  }
 },
 "nbformat": 4,
 "nbformat_minor": 5
}
