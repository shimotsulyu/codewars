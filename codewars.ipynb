{
 "cells": [
  {
   "cell_type": "code",
   "execution_count": 1,
   "id": "boolean-chorus",
   "metadata": {},
   "outputs": [],
   "source": [
    "class test:\n",
    "    def describe(title):\n",
    "        print(title,'\\n')\n",
    "    def it(title):\n",
    "        print(title)\n",
    "    def assert_equals(a,b,s=None):\n",
    "        if a==b: print('*',True,a,'\\n')\n",
    "        elif s==None: print('*',False,a,b,'\\n')\n",
    "        else: print('*',False,a,b,s,'\\n')\n",
    "Test = test"
   ]
  },
  {
   "cell_type": "code",
   "execution_count": 2,
   "id": "random-input",
   "metadata": {},
   "outputs": [
    {
     "data": {
      "text/plain": [
       "3"
      ]
     },
     "execution_count": 2,
     "metadata": {},
     "output_type": "execute_result"
    }
   ],
   "source": [
    "def persistence(n):\n",
    "    # your code\n",
    "    if n<=9:\n",
    "        return 0\n",
    "    lst = [int(i) for i in str(n)]\n",
    "    counter = 0\n",
    "    while len(lst)>1:\n",
    "        s = 1\n",
    "        for i in range(len(lst)):\n",
    "            s = s*lst[i]\n",
    "        lst = [int(i) for i in str(s)]\n",
    "        counter+=1\n",
    "    return counter\n",
    "persistence(39)"
   ]
  },
  {
   "cell_type": "code",
   "execution_count": 3,
   "id": "atmospheric-triple",
   "metadata": {},
   "outputs": [
    {
     "name": "stdout",
     "output_type": "stream",
     "text": [
      "[2]\n",
      "[1]\n"
     ]
    }
   ],
   "source": [
    "def array_diff(a, b):\n",
    "    #your code here\n",
    "    if b==[]:\n",
    "        return a\n",
    "    for k in b:\n",
    "        a = [i for i in a if i != k]\n",
    "    return a\n",
    "print(array_diff([1,2],[1]))\n",
    "print(array_diff([1,2,2],[2]))"
   ]
  },
  {
   "cell_type": "code",
   "execution_count": 1,
   "id": "centered-america",
   "metadata": {},
   "outputs": [
    {
     "data": {
      "text/plain": [
       "54421"
      ]
     },
     "execution_count": 1,
     "metadata": {},
     "output_type": "execute_result"
    }
   ],
   "source": [
    "def descending_order(num):\n",
    "    # Bust a move right here\n",
    "    lst = [str(i) for i in str(num)]\n",
    "    lst = sorted(lst,reverse=True)\n",
    "    s = str()\n",
    "    for i in lst:\n",
    "        s = s+i\n",
    "    return int(s)\n",
    "#Input: 425 Output: 54421\n",
    "num = 42145\n",
    "descending_order(num)"
   ]
  },
  {
   "cell_type": "code",
   "execution_count": 4,
   "id": "south-welsh",
   "metadata": {},
   "outputs": [
    {
     "data": {
      "text/plain": [
       "'WE ARE THE CHAMPIONS MY FRIEND'"
      ]
     },
     "execution_count": 4,
     "metadata": {},
     "output_type": "execute_result"
    }
   ],
   "source": [
    "def song_decoder(song):\n",
    "    song = song.split('WUB')\n",
    "    song = [i for i in song if i != '']\n",
    "    return str(' ').join(song)\n",
    "song_decoder(\"WUBWEWUBAREWUBWUBTHEWUBCHAMPIONSWUBMYWUBFRIENDWUB\")\n",
    "  # =>  WE ARE THE CHAMPIONS MY FRIEND"
   ]
  },
  {
   "cell_type": "code",
   "execution_count": 473,
   "id": "plastic-pitch",
   "metadata": {},
   "outputs": [
    {
     "name": "stdout",
     "output_type": "stream",
     "text": [
      "0.714651121212121\n"
     ]
    }
   ],
   "source": [
    "def solution(molarMass1, molarMass2, givenMass1, givenMass2, volume, temp):\n",
    "    return (((givenMass1/molarMass1)+(givenMass2/molarMass2))*0.082*(temp+273.15))/volume\n",
    "s = solution(44, 30, 3, 2, 5, 50)\n",
    "if s == 0.7146511212121212:\n",
    "    print('acertou',s)\n",
    "else: print(s)"
   ]
  },
  {
   "cell_type": "code",
   "execution_count": 5,
   "id": "sonic-rental",
   "metadata": {},
   "outputs": [
    {
     "data": {
      "text/plain": [
       "'lack of pies'"
      ]
     },
     "execution_count": 5,
     "metadata": {},
     "output_type": "execute_result"
    }
   ],
   "source": [
    "def spoonerize(words):\n",
    "    # ...aaaaand SPOONERIZE!\n",
    "    words = words.split(' ')\n",
    "    first = words[0]\n",
    "    first = [first[i:i+1] for i in range(0, len(first), 1)]\n",
    "    last = words[-1]\n",
    "    last = [last[i:i+1] for i in range(0, len(last), 1)]\n",
    "    f, l = first[0], last[0]\n",
    "    first[0], last[0] = l, f\n",
    "    words[0], words[-1] = str().join(first), str().join(last)\n",
    "    s = str()\n",
    "    for i in words:\n",
    "        s = s+' '+str().join(i)\n",
    "    return s[1:]\n",
    "#\"pack of lies\" --> \"lack of pies\"\n",
    "spoonerize('pack of lies')"
   ]
  },
  {
   "cell_type": "code",
   "execution_count": null,
   "id": "extra-machine",
   "metadata": {},
   "outputs": [],
   "source": [
    "def fibonacci(n):\n",
    "    s = [0,1]\n",
    "    for i in range(1,n-1):\n",
    "        s.append(s[i]+s[i-1])\n",
    "    return s[:n]\n",
    "print([0,1,1,2,3,5,8,13,21,34])\n",
    "fibonacci(10)"
   ]
  },
  {
   "cell_type": "code",
   "execution_count": 6,
   "id": "recent-chest",
   "metadata": {},
   "outputs": [
    {
     "name": "stdout",
     "output_type": "stream",
     "text": [
      "\n",
      "1.0\n",
      "\n",
      "-1\n",
      "\n",
      "2.0\n",
      "\n",
      "51.0\n"
     ]
    }
   ],
   "source": [
    "def dig_pow(n, p):\n",
    "    s = 0\n",
    "    print()\n",
    "    for i,k in enumerate(str(n)):\n",
    "        s=s+int(k)**(p+i)\n",
    "    if s%n==0: return s/n\n",
    "    else: return -1\n",
    "print(dig_pow(89, 1)) #should return 1 since 8¹ + 9² = 89 = 89 * 1\n",
    "print(dig_pow(92, 1)) #should return -1 since there is no k such as 9¹ + 2² equals 92 * k\n",
    "print(dig_pow(695, 2)) #should return 2 since 6² + 9³ + 5⁴= 1390 = 695 * 2\n",
    "print(dig_pow(46288, 3)) #should return 51 since 4³ + 6⁴+ 2⁵ + 8⁶ + 8⁷ = 2360688 = 46288 * 51"
   ]
  },
  {
   "cell_type": "code",
   "execution_count": 7,
   "id": "hollywood-document",
   "metadata": {},
   "outputs": [
    {
     "data": {
      "text/plain": [
       "'codewars'"
      ]
     },
     "execution_count": 7,
     "metadata": {},
     "output_type": "execute_result"
    }
   ],
   "source": [
    "words = ['JaCk', 'Jack', 'jack', 'jackk', 'COdewars', 'codeWars', 'abcdefgh', 'codewars']\n",
    "'''\n",
    "(list is sorted by length(small to big), then by number of uppercase letters(maximum to minimum) and then by natural order)\n",
    "'''\n",
    "target = 'codewars'\n",
    "\n",
    "def index_of(words, target):\n",
    "    return words[words.index(target)] # nah!, i don't think so\n",
    "\n",
    "index_of(words,target)"
   ]
  },
  {
   "cell_type": "code",
   "execution_count": 98,
   "id": "stupid-dating",
   "metadata": {},
   "outputs": [
    {
     "name": "stdout",
     "output_type": "stream",
     "text": [
      "No digits found False\n"
     ]
    }
   ],
   "source": [
    "alph = {0:'ZERO',1:'ONE',2:'TWO',3:'TRHEE',4:'FOUR',5:'FIVE',6:'SIX',7:'SEVEN',8:'EIGHT',9:'NINE'}\n",
    "def recover(st):\n",
    "    st = [i for i in st]\n",
    "    s=str()\n",
    "    for i in range(len(st)-2):\n",
    "        if len(st[i:])>=3:\n",
    "            if sorted(st[i:i+3])==sorted(alph[1]): s+='1'\n",
    "            elif sorted(st[i:i+3])==sorted(alph[2]): s+='2'\n",
    "            elif sorted(st[i:i+3])==sorted(alph[6]): s+='6'\n",
    "            elif len(st[i:])>=4:\n",
    "                if sorted(st[i:i+4])==sorted(alph[0]): s+='0'\n",
    "                elif sorted(st[i:i+4])==sorted(alph[4]): s+='4'\n",
    "                elif sorted(st[i:i+4])==sorted(alph[5]): s+='5'\n",
    "                elif sorted(st[i:i+4])==sorted(alph[9]): s+='9'\n",
    "                elif len(st[i:])>=5:\n",
    "                    if sorted(st[i:i+5])==sorted(alph[3]): s+='3'\n",
    "                    elif sorted(st[i:i+5])==sorted(alph[7]): s+='7'\n",
    "                    elif sorted(st[i:i+5])==sorted(alph[8]): s+='8'\n",
    "    if s=='':return 'No digits found'\n",
    "    return s\n",
    "#s = recover('NEOTWONEINEIGHTOWSVEEN')\n",
    "s = recover('ZYX')\n",
    "print(s,s=='12219827')"
   ]
  },
  {
   "cell_type": "code",
   "execution_count": 125,
   "id": "elder-captain",
   "metadata": {},
   "outputs": [
    {
     "name": "stdout",
     "output_type": "stream",
     "text": [
      "No digits found False\n"
     ]
    }
   ],
   "source": [
    "alph = {\"ZERO\":0,\"ONE\":1,\"TWO\":2,\"THREE\":3,\"FOUR\":4,\"FIVE\":5,\"SIX\":6,\"SEVEN\":7,\"EIGHT\":8,\"NINE\":9}\n",
    "def recover(st):\n",
    "    s=str()\n",
    "    for i in range(len(st)-2):\n",
    "        for k,t in alph.items():\n",
    "            if sorted(st[i:i+len(k)])==sorted(k): s+=str(t)\n",
    "    return s or 'No digits found'\n",
    "#s = recover('NEOTWONEINEIGHTOWSVEEN')\n",
    "s = recover('ZYX')\n",
    "print(s,s=='12219827')"
   ]
  },
  {
   "cell_type": "code",
   "execution_count": 130,
   "id": "acquired-uncle",
   "metadata": {},
   "outputs": [
    {
     "data": {
      "text/plain": [
       "15"
      ]
     },
     "execution_count": 130,
     "metadata": {},
     "output_type": "execute_result"
    }
   ],
   "source": [
    "def positive_sum(arr):\n",
    "    return sum(i for i in arr if i>0)\n",
    "positive_sum([1,2,3,4,5])#,15"
   ]
  },
  {
   "cell_type": "code",
   "execution_count": 133,
   "id": "cultural-simple",
   "metadata": {},
   "outputs": [
    {
     "data": {
      "text/plain": [
       "'dlrow'"
      ]
     },
     "execution_count": 133,
     "metadata": {},
     "output_type": "execute_result"
    }
   ],
   "source": [
    "def solution(string):\n",
    "    return string[::-1]\n",
    "solution('world')"
   ]
  },
  {
   "cell_type": "code",
   "execution_count": 140,
   "id": "boolean-sudan",
   "metadata": {},
   "outputs": [
    {
     "data": {
      "text/plain": [
       "6"
      ]
     },
     "execution_count": 140,
     "metadata": {},
     "output_type": "execute_result"
    }
   ],
   "source": [
    "def grow(arr):\n",
    "    s=1\n",
    "    for i in arr: s*=i\n",
    "    return s\n",
    "grow([1,2,3])"
   ]
  },
  {
   "cell_type": "code",
   "execution_count": 141,
   "id": "speaking-practice",
   "metadata": {},
   "outputs": [
    {
     "data": {
      "text/plain": [
       "6"
      ]
     },
     "execution_count": 141,
     "metadata": {},
     "output_type": "execute_result"
    }
   ],
   "source": [
    "def grow(arr):\n",
    "    return eval('*'.join([str(i) for i in arr]))\n",
    "grow([1,2,3])"
   ]
  },
  {
   "cell_type": "code",
   "execution_count": 386,
   "id": "emerging-miller",
   "metadata": {},
   "outputs": [
    {
     "data": {
      "text/plain": [
       "True"
      ]
     },
     "execution_count": 386,
     "metadata": {},
     "output_type": "execute_result"
    }
   ],
   "source": [
    "# 2nd root of 256 is 16\n",
    "# 4th root of 256 is 4\n",
    "# 8th root of 256 is 2\n",
    "def perfect_roots(n): # returns True \n",
    "    for i in [2,4,8]:\n",
    "        if n**(1/i)-int(n**(1/i))!=0:\n",
    "            return False\n",
    "    return True\n",
    "perfect_roots(256)"
   ]
  },
  {
   "cell_type": "code",
   "execution_count": 485,
   "id": "dental-input",
   "metadata": {},
   "outputs": [
    {
     "name": "stdout",
     "output_type": "stream",
     "text": [
      "Example Tests \n",
      "\n",
      "True 21\n",
      "True 1\n",
      "True 4\n",
      "True 2008\n",
      "True 1666\n",
      "True 1942\n"
     ]
    }
   ],
   "source": [
    "def solution(roman):\n",
    "    \"\"\"complete the solution by transforming the roman numeral into an integer\"\"\"\n",
    "    symbol = {'I':1,'V':5,'X':10,'L':50,'C':100,'D':500,'M':1000,'IV':4,'IX':9,'XL':40,'XC':90,'CD':400,'CM':900}\n",
    "    s,i=0,0\n",
    "    while i<len(roman):\n",
    "        try:\n",
    "            s+=symbol[roman[i:i+2]]\n",
    "            i+=2\n",
    "        except:\n",
    "            s+=symbol[roman[i:i+1]]\n",
    "            i+=1\n",
    "    return s\n",
    "    \n",
    "test.describe(\"Example Tests\")\n",
    "test.assert_equals(solution('XXI'), 21, 'XXI should == 21')\n",
    "test.assert_equals(solution('I'), 1, 'I should == 1')\n",
    "test.assert_equals(solution('IV'), 4, 'IV should == 4')\n",
    "test.assert_equals(solution('MMVIII'), 2008, 'MMVIII should == 2008')\n",
    "test.assert_equals(solution('MDCLXVI'), 1666, 'MDCLXVI should == 1666')\n",
    "test.assert_equals(solution('MCMXLII'), 1942,'MCMXLII should == 1942')"
   ]
  },
  {
   "cell_type": "code",
   "execution_count": 499,
   "id": "functioning-reduction",
   "metadata": {},
   "outputs": [
    {
     "name": "stdout",
     "output_type": "stream",
     "text": [
      "True [1.1, 2.2, 3.3]\n"
     ]
    }
   ],
   "source": [
    "def to_float_array(arr): \n",
    "    return [float(i) for i in arr]\n",
    "\n",
    "test.assert_equals(to_float_array([\"1.1\", \"2.2\", \"3.3\"]), [1.1, 2.2, 3.3])"
   ]
  },
  {
   "cell_type": "code",
   "execution_count": 530,
   "id": "spatial-syndrome",
   "metadata": {},
   "outputs": [
    {
     "name": "stdout",
     "output_type": "stream",
     "text": [
      "Balrog\n",
      "Vega\n",
      "3\n"
     ]
    }
   ],
   "source": [
    "i,j=1,0\n",
    "print(fighters[i][j])\n",
    "\n",
    "#down\n",
    "i+=1\n",
    "print(fighters[i][j])\n",
    "\n",
    "print(len(fighters))"
   ]
  },
  {
   "cell_type": "code",
   "execution_count": 586,
   "id": "painful-liberty",
   "metadata": {},
   "outputs": [
    {
     "name": "stdout",
     "output_type": "stream",
     "text": [
      "Character selection \n",
      "\n",
      "should work with no selection cursor moves\n",
      "True [] \n",
      "\n",
      "should stop on empty spaces vertically\n",
      "True ['Balrog'] \n",
      "\n",
      "should stop on empty spaces vertically\n",
      "True ['Balrog', 'Balrog', 'Balrog', 'Balrog'] \n",
      "\n",
      "should stop vertically\n",
      "True ['Vega', 'Vega', 'Vega', 'Vega'] \n",
      "\n",
      "should stop on empty spaces vertically\n",
      "True ['Sagat', 'Sagat', 'Sagat', 'Sagat'] \n",
      "\n",
      "should stop vertically\n",
      "True ['M.Bison', 'M.Bison', 'M.Bison', 'M.Bison'] \n",
      "\n",
      "should rotate horizontally\n",
      "True ['Chun Li', 'Ken', 'Balrog', 'Sagat', 'Dhalsim', 'Zangief', 'Chun Li', 'Ken'] \n",
      "\n",
      "should rotate horizontally with empty spaces\n",
      "True ['Blanka', 'Guile', 'Ryu', 'E.Honda', 'Blanka', 'Guile', 'Ryu', 'E.Honda'] \n",
      "\n",
      "should work with longer grid\n",
      "True ['E.Honda', 'Ryu', 'Ken', 'Chun Li', 'Balrog', 'Ken', 'Chun Li', 'Fei Long', 'Vega', 'Balrog', 'Fei Long', 'Vega', 'Blanka', 'Guile', 'Chun Li', 'Sagat', 'M.Bison', 'Zangief', 'Dhalsim', 'Dhalsim', 'Zangief', 'M.Bison', 'Sagat', 'T.Hawk', 'Cammy', 'Deejay', 'T.Hawk'] \n",
      "\n",
      "should work with odd initial position\n",
      "True ['Guile', 'Blanka', 'M.Bison', 'Zangief', 'Dhalsim', 'Sagat', 'M.Bison', 'Deejay', 'T.Hawk', 'Cammy', 'Deejay', 'T.Hawk', 'Sagat', 'M.Bison', 'Zangief', 'Guile', 'Chun Li', 'Blanka', 'Guile'] \n",
      "\n"
     ]
    }
   ],
   "source": [
    "def super_street_fighter_selection(fighters, position, moves):\n",
    "    if moves==[]: return []\n",
    "    else:\n",
    "        p,L=[position[0],position[1]],[]\n",
    "        for m in moves:\n",
    "            if m=='up':\n",
    "                if p[0]!=0 and fighters[p[0]-1][p[1]]!='':p[0]-=1\n",
    "            elif m=='down':\n",
    "                if p[0]!=len(fighters)-1 and fighters[p[0]+1][p[1]]!='':p[0]+=1\n",
    "            elif m=='right':\n",
    "                if p[1]<len(fighters[0])-1:p[1]+=1\n",
    "                else:p[1]=0\n",
    "                while fighters[p[0]][p[1]]=='':\n",
    "                    if p[1]<len(fighters[0])-1: p[1]+=1\n",
    "                    else: p[1]=0\n",
    "            elif m=='left':\n",
    "                if p[1]>0:p[1]-=1\n",
    "                else: p[1]=len(fighters[0])-1\n",
    "                while fighters[p[0]][p[1]]=='':\n",
    "                    if p[1]>0: p[1]-=1\n",
    "                    else: p[1]=len(fighters[0])-1\n",
    "            L.append(fighters[p[0]][p[1]])\n",
    "    return L\n",
    "# DO NOT CHANGE THIS VARIABLE!\n",
    "fighters = [\n",
    "\t[       \"\",    \"Ryu\",  \"E.Honda\",  \"Blanka\",   \"Guile\", \"\"       ],\n",
    "\t[ \"Balrog\",    \"Ken\",  \"Chun Li\", \"Zangief\", \"Dhalsim\", \"Sagat\"  ],\n",
    "\t[   \"Vega\", \"T.Hawk\", \"Fei Long\",  \"Deejay\",   \"Cammy\", \"M.Bison\"]\n",
    "]\n",
    "# DO NOT CHANGE THIS VARIABLE!\n",
    "fighters4 = [\n",
    "\t[        \"\",     \"Ryu\",  \"E.Honda\",  \"Cammy\" ],\n",
    "\t[  \"Balrog\",     \"Ken\",  \"Chun Li\",       \"\" ],\n",
    "\t[    \"Vega\",        \"\", \"Fei Long\", \"Balrog\",],\n",
    "    [  \"Blanka\",   \"Guile\",         \"\", \"Chun Li\"],\n",
    "    [ \"M.Bison\", \"Zangief\",  \"Dhalsim\", \"Sagat\"  ],\n",
    "    [  \"Deejay\",   \"Cammy\",         \"\", \"T.Hawk\" ]\n",
    "]\n",
    "test.describe(\"Character selection\")\n",
    "test.it(\"should work with no selection cursor moves\")\n",
    "moves =  []\n",
    "position = (0,0)\n",
    "solution = []\n",
    "test.assert_equals(super_street_fighter_selection(fighters,position, moves), solution)\n",
    "\n",
    "test.it(\"should stop on empty spaces vertically\")\n",
    "moves =  [\"up\"]\n",
    "position = (1,0)\n",
    "solution = ['Balrog']\n",
    "test.assert_equals(super_street_fighter_selection(fighters,position, moves), solution)\n",
    "\n",
    "test.it(\"should stop on empty spaces vertically\")\n",
    "moves =  [\"up\"]*4\n",
    "position = (1,0)\n",
    "solution = ['Balrog']*4\n",
    "test.assert_equals(super_street_fighter_selection(fighters,position, moves), solution)\n",
    "\n",
    "test.it(\"should stop vertically\")\n",
    "moves =  [\"down\"]*4\n",
    "position = (1,0)\n",
    "solution = ['Vega']*4\n",
    "test.assert_equals(super_street_fighter_selection(fighters,position, moves), solution)\n",
    "\n",
    "test.it(\"should stop on empty spaces vertically\")\n",
    "moves =  [\"up\"]*4\n",
    "position = (1,5)\n",
    "solution = ['Sagat']*4\n",
    "test.assert_equals(super_street_fighter_selection(fighters,position, moves), solution)\n",
    "\n",
    "test.it(\"should stop vertically\")\n",
    "moves =  [\"down\"]*4\n",
    "position = (1,5)\n",
    "solution = ['M.Bison']*4\n",
    "test.assert_equals(super_street_fighter_selection(fighters,position, moves), solution)\n",
    "\n",
    "test.it(\"should rotate horizontally\")\n",
    "moves =  [\"left\"]*8\n",
    "position = (1,3)\n",
    "solution = ['Chun Li', 'Ken', 'Balrog', 'Sagat', 'Dhalsim', 'Zangief', 'Chun Li', 'Ken']\n",
    "test.assert_equals(super_street_fighter_selection(fighters,position, moves), solution)\n",
    "\n",
    "test.it(\"should rotate horizontally with empty spaces\")\n",
    "moves =  [\"right\"]*8\n",
    "position = (0,2)\n",
    "solution = ['Blanka', 'Guile', 'Ryu', 'E.Honda', 'Blanka', 'Guile', 'Ryu', 'E.Honda']\n",
    "test.assert_equals(super_street_fighter_selection(fighters,position, moves), solution)\n",
    "\n",
    "#----------------------------fighters 4\n",
    "test.it(\"should work with longer grid\")\n",
    "moves =  [\"left\"]*2+[\"down\"]+[\"right\"]*4+[\"down\"]+[\"left\"]*4+[\"down\"]+[\"right\"]*2+[\"down\"]+[\"right\"]*3+[\"down\"]+[\"left\"]*3+[\"down\"]+[\"left\"]*3\n",
    "position = (0,3)\n",
    "solution = ['E.Honda', 'Ryu', 'Ken', 'Chun Li', 'Balrog', 'Ken', 'Chun Li', 'Fei Long', 'Vega', 'Balrog', 'Fei Long', 'Vega', 'Blanka', 'Guile', 'Chun Li', 'Sagat', 'M.Bison', 'Zangief', 'Dhalsim', 'Dhalsim', 'Zangief', 'M.Bison', 'Sagat', 'T.Hawk', 'Cammy', 'Deejay', 'T.Hawk']\n",
    "test.assert_equals(super_street_fighter_selection(fighters4,position, moves), solution)\n",
    "\n",
    "test.it(\"should work with odd initial position\")\n",
    "moves =  [\"left\"]*2+[\"down\"]+[\"right\"]*4+[\"down\"]+[\"left\"]*4+[\"up\"]+[\"right\"]*2+[\"up\"]+[\"right\"]*3\n",
    "position = (3,3)\n",
    "solution = ['Guile', 'Blanka', 'M.Bison', 'Zangief', 'Dhalsim', 'Sagat', 'M.Bison', 'Deejay', 'T.Hawk', 'Cammy', 'Deejay', 'T.Hawk', 'Sagat', 'M.Bison', 'Zangief', 'Guile', 'Chun Li', 'Blanka', 'Guile']\n",
    "test.assert_equals(super_street_fighter_selection(fighters4,position, moves), solution)\n"
   ]
  },
  {
   "cell_type": "code",
   "execution_count": 598,
   "id": "personal-emission",
   "metadata": {},
   "outputs": [
    {
     "name": "stdout",
     "output_type": "stream",
     "text": [
      "True 0.5580321939764581 \n",
      "\n",
      "* False 0.6921486500921895 0.6921486500921933 \n",
      "\n",
      "* False 0.6930471674194691 0.6930471674194457 \n",
      "\n",
      "* False 0.6930471955576154 0.6930471955575918 \n",
      "\n"
     ]
    }
   ],
   "source": [
    "def doubles(maxk, maxn):\n",
    "    s=0\n",
    "    for k in range(1,maxk+1):\n",
    "        for n in range(1,maxn+1):\n",
    "            s+=1/(k*(n+1)**(2*k))\n",
    "    return s\n",
    "test.assert_equals(doubles(1, 10), 0.5580321939764581)\n",
    "test.assert_equals(doubles(10, 1000), 0.6921486500921933)\n",
    "test.assert_equals(doubles(10, 10000), 0.6930471674194457)\n",
    "test.assert_equals(doubles(20, 10000), 0.6930471955575918)"
   ]
  },
  {
   "cell_type": "code",
   "execution_count": 631,
   "id": "colored-response",
   "metadata": {},
   "outputs": [
    {
     "name": "stdout",
     "output_type": "stream",
     "text": [
      "* False None 121 Wrong result for 120. It should be 121 \n",
      "\n",
      "* False None 1311 Wrong result for 1234. It should be 1311 \n",
      "\n",
      "* False None 12 Wrong result for 10. It should be 12 \n",
      "\n",
      "* False None 10 Wrong result for 1. It should be 10 \n",
      "\n",
      "* False None 112 Wrong result for 111. It should be 112 \n",
      "\n"
     ]
    }
   ],
   "source": [
    "def doubleton(num):\n",
    "    L = [int(i) for i in str(num+1)]\n",
    "    l = set(L)\n",
    "    if len(L)!=len(l):\n",
    "        \n",
    "        pass\n",
    "    pass\n",
    "\n",
    "test.assert_equals(doubleton(120), 121, 'Wrong result for 120. It should be 121')\n",
    "test.assert_equals(doubleton(1234), 1311, 'Wrong result for 1234. It should be 1311')\n",
    "test.assert_equals(doubleton(10), 12, 'Wrong result for 10. It should be 12')\n",
    "test.assert_equals(doubleton(1), 10, 'Wrong result for 1. It should be 10')\n",
    "test.assert_equals(doubleton(111), 112, 'Wrong result for 111. It should be 112')"
   ]
  },
  {
   "cell_type": "code",
   "execution_count": 32,
   "id": "representative-workshop",
   "metadata": {},
   "outputs": [
    {
     "name": "stdout",
     "output_type": "stream",
     "text": [
      "Basic tests \n",
      "\n",
      "True True \n",
      "\n",
      "True False \n",
      "\n",
      "True False \n",
      "\n",
      "True False \n",
      "\n"
     ]
    }
   ],
   "source": [
    "def detect(comment):\n",
    "    return comment.find('Can someone explain') == 0\n",
    "test.describe(\"Basic tests\")\n",
    "test.assert_equals(detect(\"Can someone explain to me what this kata is about?\"), True)\n",
    "test.assert_equals(detect(\"Can someone solve this kata for me?\"), False)\n",
    "test.assert_equals(detect(\"can someone explain how the ranking works?\"), False)\n",
    "test.assert_equals(detect(\"I wonder when Can someone explain how the ranking works?\"), False)"
   ]
  },
  {
   "cell_type": "code",
   "execution_count": 45,
   "id": "fabulous-difference",
   "metadata": {},
   "outputs": [
    {
     "name": "stdout",
     "output_type": "stream",
     "text": [
      "Basic tests\n",
      "True 578905 \n",
      "\n",
      "True FalseTrue d g-- \n",
      "\n",
      "True 780None[] \n",
      "\n",
      "True ()()() \n",
      "\n",
      "True (1, 2)(3, 4)(5, 6) \n",
      "\n",
      "True 0.7073.14162.718 \n",
      "\n",
      "True abcxyzjmw \n",
      "\n"
     ]
    }
   ],
   "source": [
    "def transform(s):\n",
    "    S = str()\n",
    "    for i in s:\n",
    "        S+=str(i)\n",
    "    return S\n",
    "test.it(\"Basic tests\")\n",
    "test.assert_equals(transform([5, 7, 8, 9, 0, 5]),\"578905\")\n",
    "test.assert_equals(transform([False, True, \" d g--\"]),\"FalseTrue d g--\")\n",
    "test.assert_equals(transform([78, 0, None, []]),\"780None[]\")\n",
    "test.assert_equals(transform([(), (), ()]),\"()()()\")\n",
    "test.assert_equals(transform([(1,2), (3,4), (5,6)]),\"(1, 2)(3, 4)(5, 6)\")\n",
    "test.assert_equals(transform([(0.707), (3.1416), (2.718)]),\"0.7073.14162.718\")\n",
    "test.assert_equals(transform([\"abc\", \"xyz\", \"jmw\"]),\"abcxyzjmw\")"
   ]
  },
  {
   "cell_type": "code",
   "execution_count": 87,
   "id": "upper-house",
   "metadata": {},
   "outputs": [
    {
     "name": "stdout",
     "output_type": "stream",
     "text": [
      "True sixteen \n",
      "\n",
      "True sixteen \n",
      "\n",
      "True seventeen \n",
      "\n",
      "True sixteen \n",
      "\n"
     ]
    }
   ],
   "source": [
    "numbers = [\"zero\", \"one\", \"two\", \"three\", \"four\", \"five\", \"six\", \"seven\", \"eight\", \"nine\", \"ten\", \"eleven\", \"twelve\",\"thirteen\", \"fourteen\", \"fifteen\", \"sixteen\", \"seventeen\", \"eighteen\", \"nineteen\", \"twenty\"]\n",
    "def wallpaper(l, w, h):\n",
    "    if l*w*h == 0: return numbers[0]\n",
    "    return numbers[int(2*((l*h)/(0.52*10))*1.15+2*((w*h)/(0.52*10))*1.15)+1] if (2*((l*h)/(0.52*10))*1.15+2*((w*h)/(0.52*10))*1.15)%int(2*((l*h)/(0.52*10))*1.15+2*((w*h)/(0.52*10))*1.15)!=0 else numbers[int(2*((l*h)/(0.52*10))*1.15+2*((w*h)/(0.52*10))*1.15)]\n",
    "test.assert_equals(wallpaper(6.3, 4.5, 3.29), \"sixteen\")\n",
    "test.assert_equals(wallpaper(7.8, 2.9, 3.29), \"sixteen\")\n",
    "test.assert_equals(wallpaper(6.3, 5.8, 3.13), \"seventeen\")\n",
    "test.assert_equals(wallpaper(6.1, 6.7, 2.81), \"sixteen\")"
   ]
  },
  {
   "cell_type": "code",
   "execution_count": 3,
   "id": "supported-member",
   "metadata": {},
   "outputs": [
    {
     "name": "stdout",
     "output_type": "stream",
     "text": [
      "True [0] \n",
      "\n",
      "True [0, 2] \n",
      "\n",
      "True [] \n",
      "\n",
      "True [0, 2, 4, 6, 8, 10] \n",
      "\n",
      "True [] \n",
      "\n",
      "True [2, 4, 8, 6, 0] \n",
      "\n",
      "True [] \n",
      "\n"
     ]
    }
   ],
   "source": [
    "def no_odds(values):\n",
    "    return [i for i in values if i%2==0]\n",
    "test.assert_equals(no_odds([0, 1]), [0], 'Zero through one')\n",
    "test.assert_equals(no_odds([0, 1, 2, 3]), [0, 2], 'Zero through three')\n",
    "test.assert_equals(no_odds([1, 3, 5, 7, 9]), [], 'Odds through ten')\n",
    "test.assert_equals(no_odds([0, 2, 4, 6, 8, 10]), [0, 2, 4, 6, 8, 10], 'Evens through ten')\n",
    "test.assert_equals(no_odds([-1, -3, -5, -7, -9]), [], 'Negative odds')\n",
    "test.assert_equals(no_odds([2, 4, 8, 6, 0]), [2, 4, 8, 6, 0], 'Out of order')\n",
    "test.assert_equals(no_odds([]), [], 'Empty list')    "
   ]
  },
  {
   "cell_type": "code",
   "execution_count": 7,
   "id": "urban-browse",
   "metadata": {},
   "outputs": [
    {
     "name": "stdout",
     "output_type": "stream",
     "text": [
      "True 101 \n",
      "\n",
      "True 10101 \n",
      "\n",
      "True 101010101010 \n",
      "\n",
      "True 10101010101010101010101010 \n",
      "\n",
      "True 1010101010101010101010101010 \n",
      "\n"
     ]
    }
   ],
   "source": [
    "def stringy(size):\n",
    "    return ('10' * size)[:size]\n",
    "test.assert_equals(stringy(3), '101', 'stringy(3)')\n",
    "test.assert_equals(stringy(5), '10101', 'stringy(5)')\n",
    "test.assert_equals(stringy(12), '101010101010', 'stringy(12)')\n",
    "test.assert_equals(stringy(26), '10101010101010101010101010', 'stringy(26)')\n",
    "test.assert_equals(stringy(28), '1010101010101010101010101010', 'stringy(28)')"
   ]
  },
  {
   "cell_type": "code",
   "execution_count": 29,
   "id": "spectacular-reverse",
   "metadata": {},
   "outputs": [
    {
     "name": "stdout",
     "output_type": "stream",
     "text": [
      "True 99890 \n",
      "\n",
      "True 98765 \n",
      "\n"
     ]
    }
   ],
   "source": [
    "def solution(digits):\n",
    "    s = 0\n",
    "    for i in range(len(digits)-4):\n",
    "        if s < int(digits[i:i+5]):s = int(digits[i:i+5])\n",
    "    return s\n",
    "\n",
    "number = \"7316717653133062491922511967442657474235534919493496983520368542506326239578318016984801869478851843858615607891129494954595017379583319528532088055111254069874715852386305071569329096329522744304355766896648950445244523161731856403098711121722383113622298934233803081353362766142828064444866452387493035890729629049156044077239071381051585930796086670172427121883998797908792274921901699720888093776657273330010533678812202354218097512545405947522435258490771167055601360483958644670632441572215539753123457977846174064955149290862569321978468622482839722413756570560574902614079729686524145351004748216637048440319989000889524345065854122758866688116427171479924442928230863465674813919123162824586178664583591245665294765456828489128831426076900422421902267105562632111110937054421750694165896040807198403850962455444362981230987879927244284909188845801561660979191338754992005240636899125607176060588611646710940507754100225698315520005593572972571636269561882670428252483600823257540920752963450\"\n",
    "actual = solution(number);\n",
    "test.assert_equals(actual, 99890, 'solution did not return correct value')\n",
    "test.assert_equals(solution('1234567898765'), 98765, 'Failed when max 5 digits is at end of number')"
   ]
  },
  {
   "cell_type": "code",
   "execution_count": 53,
   "id": "limiting-dividend",
   "metadata": {},
   "outputs": [
    {
     "name": "stdout",
     "output_type": "stream",
     "text": [
      "True 3/56 \n",
      "\n",
      "True 6/60 \n",
      "\n",
      "True 11/65 \n",
      "\n"
     ]
    }
   ],
   "source": [
    "def printer_error(s):\n",
    "    return '{}/{}'.format(([i<='m' for i in s]).count(False),len(s))\n",
    "\n",
    "s=\"aaaaaaaaaaaaaaaabbbbbbbbbbbbbbbbbbmmmmmmmmmmmmmmmmmmmxyz\"\n",
    "test.assert_equals(printer_error(s), \"3/56\")\n",
    "s = \"kkkwwwaaaaaaaaaaaaaabbbbbbbbbbbbbbbbbbmmmmmmmmmmmmmmmmmmmxyz\"\n",
    "test.assert_equals(printer_error(s), \"6/60\")\n",
    "s = \"kkkwwwaaaaaaaaaaaaaabbbbbbbbbbbbbbbbbbmmmmmmmmmmmmmmmmmmmxyzuuuuu\"\n",
    "test.assert_equals(printer_error(s) , \"11/65\")"
   ]
  },
  {
   "cell_type": "code",
   "execution_count": 63,
   "id": "missing-memphis",
   "metadata": {},
   "outputs": [
    {
     "name": "stdout",
     "output_type": "stream",
     "text": [
      "True 1 \n",
      "\n",
      "True 9 \n",
      "\n",
      "True 36 \n",
      "\n",
      "True 100 \n",
      "\n",
      "True 3025 \n",
      "\n",
      "True 58155876 \n",
      "\n"
     ]
    }
   ],
   "source": [
    "def sum_cubes(n):\n",
    "    return sum([i**3 for i in range(n+1)])\n",
    "    \n",
    "test.assert_equals(sum_cubes(1), 1)\n",
    "test.assert_equals(sum_cubes(2), 9)\n",
    "test.assert_equals(sum_cubes(3), 36)\n",
    "test.assert_equals(sum_cubes(4), 100)\n",
    "test.assert_equals(sum_cubes(10), 3025)\n",
    "test.assert_equals(sum_cubes(123), 58155876)"
   ]
  },
  {
   "cell_type": "code",
   "execution_count": 131,
   "id": "brutal-liability",
   "metadata": {},
   "outputs": [
    {
     "name": "stdout",
     "output_type": "stream",
     "text": [
      "True 267 \n",
      "\n",
      "True 417 \n",
      "\n",
      "True 0 \n",
      "\n",
      "True 1087 \n",
      "\n",
      "True 1023 \n",
      "\n",
      "True 1 \n",
      "\n"
     ]
    }
   ],
   "source": [
    "def reverse_bits(n):\n",
    "    return int(bin(n)[:1:-1],2)\n",
    "test.assert_equals(reverse_bits(417), 267)\n",
    "test.assert_equals(reverse_bits(267), 417)\n",
    "test.assert_equals(reverse_bits(0), 0)\n",
    "test.assert_equals(reverse_bits(2017), 1087)\n",
    "test.assert_equals(reverse_bits(1023), 1023)\n",
    "test.assert_equals(reverse_bits(1024), 1)"
   ]
  },
  {
   "cell_type": "code",
   "execution_count": 134,
   "id": "alien-bracelet",
   "metadata": {},
   "outputs": [
    {
     "name": "stdout",
     "output_type": "stream",
     "text": [
      "True -110 \n",
      "\n",
      "True 0 \n",
      "\n",
      "True 1 \n",
      "\n",
      "True -10 \n",
      "\n",
      "True 9 \n",
      "\n",
      "True 56 \n",
      "\n",
      "True 566 \n",
      "\n",
      "True 5 \n",
      "\n",
      "True 555 \n",
      "\n",
      "True 9 \n",
      "\n"
     ]
    }
   ],
   "source": [
    "def minimum(arr):\n",
    "    return min(arr)\n",
    "\n",
    "def maximum(arr):\n",
    "    return max(arr)\n",
    "\n",
    "test.assert_equals(minimum([-52, 56, 30, 29, -54, 0, -110]), -110)\n",
    "test.assert_equals(minimum([42, 54, 65, 87, 0]), 0)\n",
    "test.assert_equals(minimum([1, 2, 3, 4, 5, 10]), 1)\n",
    "test.assert_equals(minimum([-1, -2, -3, -4, -5, -10]), -10)\n",
    "test.assert_equals(minimum([9]), 9)\n",
    "test.assert_equals(maximum([-52, 56, 30, 29, -54, 0, -110]), 56)\n",
    "test.assert_equals(maximum([4,6,2,1,9,63,-134,566]), 566)\n",
    "test.assert_equals(maximum([5]), 5)\n",
    "test.assert_equals(maximum([534,43,2,1,3,4,5,5,443,443,555,555]), 555)\n",
    "test.assert_equals(maximum([9]), 9)"
   ]
  },
  {
   "cell_type": "code",
   "execution_count": 188,
   "id": "individual-absorption",
   "metadata": {},
   "outputs": [
    {
     "name": "stdout",
     "output_type": "stream",
     "text": [
      "True 218 \n",
      "\n",
      "True 0 \n",
      "\n",
      "True 120 \n",
      "\n",
      "True 802 \n",
      "\n"
     ]
    }
   ],
   "source": [
    "def hex_hash(code):\n",
    "    return sum(int(d) for c in code for d in hex(ord(c)) if d.isdigit())\n",
    "test.assert_equals(hex_hash('kcxnjsklsHskjHDkl7878hHJk'), 218)\n",
    "test.assert_equals(hex_hash(''), 0)\n",
    "test.assert_equals(hex_hash('ThisIsATest!'), 120)\n",
    "test.assert_equals(hex_hash('dhsajkbfyewquilb4y83q903ybr8q9apf7\\9ph79qw0-eq230br[wq87r0=18-[#20r370B 7Q0RFP23B79037902RF79WQ0[]]]'), 802)"
   ]
  },
  {
   "cell_type": "code",
   "execution_count": 2,
   "id": "inappropriate-influence",
   "metadata": {},
   "outputs": [
    {
     "name": "stdout",
     "output_type": "stream",
     "text": [
      "True aaaa \n",
      "\n",
      "True hello hello hello  \n",
      "\n",
      "True abcabc \n",
      "\n"
     ]
    }
   ],
   "source": [
    "def repeat_str(repeat, string):\n",
    "    return string*repeat\n",
    "test.assert_equals(repeat_str(4, 'a'), 'aaaa')\n",
    "test.assert_equals(repeat_str(3, 'hello '), 'hello hello hello ')\n",
    "test.assert_equals(repeat_str(2, 'abc'), 'abcabc')\n"
   ]
  },
  {
   "cell_type": "code",
   "execution_count": 43,
   "id": "otherwise-midwest",
   "metadata": {},
   "outputs": [
    {
     "name": "stdout",
     "output_type": "stream",
     "text": [
      "True None \n",
      "\n",
      "True [3, 2, 1, 1] \n",
      "\n",
      "True [14, 6, 6, 2, 2, 2] \n",
      "\n",
      "True [14, 14, 9, 5, 4, 1, 1, 1, 1] \n",
      "\n"
     ]
    }
   ],
   "source": [
    "def sqInRect(lng, wdth, count=0):\n",
    "    if lng==wdth: return (None,[wdth])[count]\n",
    "    return [min([lng,wdth])] + sqInRect(max([lng,wdth])-min([lng,wdth]),min([lng,wdth]),count=1)\n",
    "test.assert_equals(sqInRect(5, 5), None)\n",
    "test.assert_equals(sqInRect(5, 3), [3, 2, 1, 1])\n",
    "test.assert_equals(sqInRect(20, 14), [14, 6, 6, 2, 2, 2])\n",
    "test.assert_equals(sqInRect(37, 14), [14, 14, 9, 5, 4, 1, 1, 1, 1])"
   ]
  },
  {
   "cell_type": "code",
   "execution_count": 112,
   "id": "affiliated-species",
   "metadata": {},
   "outputs": [
    {
     "name": "stdout",
     "output_type": "stream",
     "text": [
      "Basic Tests \n",
      "\n",
      "True 1 \n",
      "\n",
      "True 2 \n",
      "\n",
      "True 5 \n",
      "\n",
      "True 13 \n",
      "\n",
      "True 140 \n",
      "\n"
     ]
    }
   ],
   "source": [
    "def pyramid(balls,i=1):\n",
    "    if balls-i<=i: return i\n",
    "    return pyramid(balls-i,i=i+1)\n",
    "Test.describe(\"Basic Tests\")\n",
    "Test.assert_equals(pyramid(1) , 1)\n",
    "Test.assert_equals(pyramid(4) , 2)\n",
    "Test.assert_equals(pyramid(20) , 5)\n",
    "Test.assert_equals(pyramid(100) , 13)\n",
    "Test.assert_equals(pyramid(9999) , 140)"
   ]
  },
  {
   "cell_type": "code",
   "execution_count": 120,
   "id": "ecological-quest",
   "metadata": {},
   "outputs": [
    {
     "name": "stdout",
     "output_type": "stream",
     "text": [
      "Basic Tests \n",
      "\n",
      "True 1.0 \n",
      "\n",
      "True 2.0 \n",
      "\n",
      "True 5.0 \n",
      "\n",
      "True 13.0 \n",
      "\n",
      "True 140.0 \n",
      "\n"
     ]
    }
   ],
   "source": [
    "def pyramid(balls):\n",
    "    return ((8 * balls + 1) ** 0.5 - 1) // 2\n",
    "Test.describe(\"Basic Tests\")\n",
    "Test.assert_equals(pyramid(1) , 1)\n",
    "Test.assert_equals(pyramid(4) , 2)\n",
    "Test.assert_equals(pyramid(20) , 5)\n",
    "Test.assert_equals(pyramid(100) , 13)\n",
    "Test.assert_equals(pyramid(9999) , 140)"
   ]
  },
  {
   "cell_type": "code",
   "execution_count": 7,
   "id": "compound-granny",
   "metadata": {},
   "outputs": [
    {
     "name": "stdout",
     "output_type": "stream",
     "text": [
      "* True 1 \n",
      "\n",
      "* True 0 \n",
      "\n",
      "* True 1 \n",
      "\n",
      "* True 0 \n",
      "\n"
     ]
    }
   ],
   "source": [
    "def lovefunc( flower1, flower2 ):\n",
    "    return (flower1+flower2)%2\n",
    "\n",
    "test.assert_equals(lovefunc(1,4), True)\n",
    "test.assert_equals(lovefunc(2,2), False)\n",
    "test.assert_equals(lovefunc(0,1), True)\n",
    "test.assert_equals(lovefunc(0,0), False)"
   ]
  },
  {
   "cell_type": "code",
   "execution_count": 28,
   "id": "ambient-series",
   "metadata": {},
   "outputs": [
    {
     "name": "stdout",
     "output_type": "stream",
     "text": [
      "* True Gemini \n",
      "\n",
      "* True Aquarius \n",
      "\n",
      "* True Leo \n",
      "\n"
     ]
    }
   ],
   "source": [
    "from datetime import date\n",
    "def star_sign(date):\n",
    "    Sign = ('Aquarius', 'Pisces', 'Aries', 'Taurus', 'Gemini', 'Cancer',\n",
    "           'Leo', 'Virgo', 'Libra', 'Scorpio', 'Sagittarius', 'Capricorn')\n",
    "    d = (21, 20, 21, 21, 22, 22, 23, 24, 24, 24, 23, 22)\n",
    "    return Sign[date.month-1] if date.day>=d[date.month-1] else Sign[date.month-2]\n",
    "test.assert_equals(star_sign(date(1970, 6, 5)), 'Gemini')\n",
    "test.assert_equals(star_sign(date(2000, 2, 15)), 'Aquarius')\n",
    "test.assert_equals(star_sign(date(1987, 8, 23)), 'Leo')"
   ]
  },
  {
   "cell_type": "code",
   "execution_count": 62,
   "id": "changed-projection",
   "metadata": {},
   "outputs": [
    {
     "name": "stdout",
     "output_type": "stream",
     "text": [
      "* True 1 \n",
      "\n",
      "* True 2 \n",
      "\n",
      "* True 15 \n",
      "\n",
      "* True 6 \n",
      "\n",
      "* True 397 \n",
      "\n"
     ]
    }
   ],
   "source": [
    "def binary_array_to_number(arr):\n",
    "    return sum(arr[i]*2**(len(arr)-1-i) for i in range(len(arr)))\n",
    "        \n",
    "test.assert_equals(binary_array_to_number([0,0,0,1]), 1)\n",
    "test.assert_equals(binary_array_to_number([0,0,1,0]), 2)\n",
    "test.assert_equals(binary_array_to_number([1,1,1,1]), 15)\n",
    "test.assert_equals(binary_array_to_number([0,1,1,0]), 6)\n",
    "test.assert_equals(binary_array_to_number([1, 1, 0, 0, 0, 1, 1, 0, 1]),397)"
   ]
  },
  {
   "cell_type": "code",
   "execution_count": 81,
   "id": "valuable-receiver",
   "metadata": {},
   "outputs": [
    {
     "name": "stdout",
     "output_type": "stream",
     "text": [
      "* True 30.0 \n",
      "\n",
      "* True 30.0 \n",
      "\n",
      "* True 0.0 \n",
      "\n",
      "* True 101.0 \n",
      "\n"
     ]
    }
   ],
   "source": [
    "def cockroach_speed(s):\n",
    "    return s//0.036\n",
    "test.assert_equals(cockroach_speed(1.08),30)\n",
    "test.assert_equals(cockroach_speed(1.09),30)\n",
    "test.assert_equals(cockroach_speed(0),0)\n",
    "test.assert_equals(cockroach_speed(3.6589039773314314),101)\n"
   ]
  },
  {
   "cell_type": "code",
   "execution_count": 86,
   "id": "final-teacher",
   "metadata": {},
   "outputs": [
    {
     "name": "stdout",
     "output_type": "stream",
     "text": [
      "* True 25 \n",
      "\n",
      "* True 0 \n",
      "\n"
     ]
    }
   ],
   "source": [
    "def paperwork(n, m):\n",
    "    return 0 if n<0 or m<0 else m*n\n",
    "    \n",
    "test.assert_equals(paperwork(5,5), 25, \"Failed at Paperwork(5,5)\")\n",
    "test.assert_equals(paperwork(-5,5), 0, \"Failed at Paperwork(5,5)\")"
   ]
  },
  {
   "cell_type": "code",
   "execution_count": 87,
   "id": "becoming-bonus",
   "metadata": {},
   "outputs": [
    {
     "name": "stdout",
     "output_type": "stream",
     "text": [
      "* True Hello, Ryan how are you doing today? \n",
      "\n",
      "* True Hello, Shingles how are you doing today? \n",
      "\n"
     ]
    }
   ],
   "source": [
    "def greet(name):\n",
    "    return f'Hello, {name} how are you doing today?'\n",
    "    \n",
    "test.assert_equals(greet('Ryan'), \"Hello, Ryan how are you doing today?\")\n",
    "test.assert_equals(greet('Shingles'), \"Hello, Shingles how are you doing today?\")\n"
   ]
  },
  {
   "cell_type": "code",
   "execution_count": 91,
   "id": "continuous-steps",
   "metadata": {},
   "outputs": [
    {
     "name": "stdout",
     "output_type": "stream",
     "text": [
      "* True [-1, -2, -3, -4, -5] \n",
      "\n",
      "* True [-1, 2, -3, 4, -5] \n",
      "\n",
      "* True [] \n",
      "\n"
     ]
    }
   ],
   "source": [
    "def invert(lst):\n",
    "    return [-i for i in lst]\n",
    "Test.assert_equals(invert([1,2,3,4,5]),[-1,-2,-3,-4,-5])\n",
    "Test.assert_equals(invert([1,-2,3,-4,5]), [-1,2,-3,4,-5])\n",
    "Test.assert_equals(invert([]), [])"
   ]
  },
  {
   "cell_type": "code",
   "execution_count": 93,
   "id": "architectural-government",
   "metadata": {},
   "outputs": [
    {
     "name": "stdout",
     "output_type": "stream",
     "text": [
      "* True [2, 4, 6] \n",
      "\n",
      "* True [3, 6] \n",
      "\n",
      "* True [0, 4] \n",
      "\n",
      "* True [0] \n",
      "\n",
      "* True [] \n",
      "\n",
      "* True [0, 1, 2, 3, 4, 5, 6, 7, 8, 9, 10] \n",
      "\n"
     ]
    }
   ],
   "source": [
    "def divisible_by(numbers, divisor):\n",
    "    return [i for i in numbers if i%divisor==0]\n",
    "    \n",
    "test.assert_equals(divisible_by([1,2,3,4,5,6], 2), [2,4,6])\n",
    "test.assert_equals(divisible_by([1,2,3,4,5,6], 3), [3,6])\n",
    "test.assert_equals(divisible_by([0,1,2,3,4,5,6], 4), [0,4])\n",
    "test.assert_equals(divisible_by([0], 4), [0])\n",
    "test.assert_equals(divisible_by([1,3,5], 2), [])\n",
    "test.assert_equals(divisible_by([0,1,2,3,4,5,6,7,8,9,10], 1), [0,1,2,3,4,5,6,7,8,9,10])"
   ]
  },
  {
   "cell_type": "code",
   "execution_count": 107,
   "id": "strong-situation",
   "metadata": {},
   "outputs": [
    {
     "name": "stdout",
     "output_type": "stream",
     "text": [
      "* True I love you \n",
      "\n",
      "* True a lot \n",
      "\n",
      "* True not at all \n",
      "\n"
     ]
    }
   ],
   "source": [
    "def how_much_i_love_you(nb_petals):\n",
    "    return ('I love you', 'a little', 'a lot', 'passionately',\n",
    "            'madly', 'not at all')[(nb_petals%6)-1]\n",
    "\n",
    "test.assert_equals(how_much_i_love_you(7),\"I love you\")\n",
    "test.assert_equals(how_much_i_love_you(3),\"a lot\")\n",
    "test.assert_equals(how_much_i_love_you(6),\"not at all\")"
   ]
  },
  {
   "cell_type": "code",
   "execution_count": 117,
   "id": "legislative-australia",
   "metadata": {},
   "outputs": [
    {
     "name": "stdout",
     "output_type": "stream",
     "text": [
      "* True ['Robin', 'Singh'] \n",
      "\n",
      "* True ['CodeWars'] \n",
      "\n",
      "* True ['I', 'love', 'arrays', 'they', 'are', 'my', 'favorite'] \n",
      "\n",
      "* True ['1', '2', '3'] \n",
      "\n",
      "* True [''] \n",
      "\n"
     ]
    }
   ],
   "source": [
    "def string_to_array(s):\n",
    "    return s.split(' ')\n",
    "\n",
    "test.assert_equals(string_to_array(\"Robin Singh\"), [\"Robin\", \"Singh\"])\n",
    "test.assert_equals(string_to_array(\"CodeWars\"), [\"CodeWars\"])\n",
    "test.assert_equals(string_to_array(\"I love arrays they are my favorite\"), [\"I\", \"love\", \"arrays\", \"they\", \"are\", \"my\", \"favorite\"])\n",
    "test.assert_equals(string_to_array(\"1 2 3\"), [\"1\", \"2\", \"3\"])\n",
    "test.assert_equals(string_to_array(\"\"), [\"\"])"
   ]
  },
  {
   "cell_type": "code",
   "execution_count": 118,
   "id": "entitled-saver",
   "metadata": {},
   "outputs": [
    {
     "name": "stdout",
     "output_type": "stream",
     "text": [
      "* True True \n",
      "\n",
      "* True True \n",
      "\n",
      "* True False \n",
      "\n",
      "* True False \n",
      "\n",
      "* True True \n",
      "\n",
      "* True False \n",
      "\n",
      "* True True \n",
      "\n",
      "* True False \n",
      "\n",
      "* True False \n",
      "\n",
      "* True True \n",
      "\n"
     ]
    }
   ],
   "source": [
    "def is_divide_by(number, a, b):\n",
    "    return number%a==0 and number%b==0\n",
    "\n",
    "test.assert_equals(is_divide_by(8, 2, 4), True)\n",
    "test.assert_equals(is_divide_by(12, -3, 4), True)\n",
    "test.assert_equals(is_divide_by(8, 3, 4), False)\n",
    "test.assert_equals(is_divide_by(48, 2, -5), False)\n",
    "test.assert_equals(is_divide_by(-100, -25, 10), True)\n",
    "test.assert_equals(is_divide_by(10000, 5, -3), False)\n",
    "test.assert_equals(is_divide_by(4, 4, 2), True)\n",
    "test.assert_equals(is_divide_by(5, 2, 3), False)\n",
    "test.assert_equals(is_divide_by(-96, 25, 17), False)\n",
    "test.assert_equals(is_divide_by(33, 1, 33), True)"
   ]
  },
  {
   "cell_type": "code",
   "execution_count": 125,
   "id": "occasional-visit",
   "metadata": {},
   "outputs": [
    {
     "name": "stdout",
     "output_type": "stream",
     "text": [
      "* True Underweight \n",
      "\n",
      "* True Normal \n",
      "\n",
      "* True Overweight \n",
      "\n",
      "* True Obese \n",
      "\n",
      "* True Normal \n",
      "\n"
     ]
    }
   ],
   "source": [
    "def bmi(weight, height):\n",
    "        s = (18.5, 25, 30)\n",
    "        for i in range(3):\n",
    "            if weight/(height**2) <= s[i]: return ('Underweight', 'Normal', 'Overweight')[i]\n",
    "        return 'Obese'\n",
    "    \n",
    "test.assert_equals(bmi(50, 1.80), \"Underweight\")\n",
    "test.assert_equals(bmi(80, 1.80), \"Normal\")\n",
    "test.assert_equals(bmi(90, 1.80), \"Overweight\")\n",
    "test.assert_equals(bmi(110, 1.80), \"Obese\")\n",
    "test.assert_equals(bmi(50, 1.50), \"Normal\")"
   ]
  },
  {
   "cell_type": "code",
   "execution_count": 136,
   "id": "mechanical-aircraft",
   "metadata": {},
   "outputs": [
    {
     "name": "stdout",
     "output_type": "stream",
     "text": [
      "* True [10, -65] \n",
      "\n",
      "* True [8, -50] \n",
      "\n",
      "* True [1, 0] \n",
      "\n",
      "* True [0, -1] \n",
      "\n",
      "* True [0, 0] \n",
      "\n",
      "* True [] \n",
      "\n"
     ]
    }
   ],
   "source": [
    "def count_positives_sum_negatives(arr):\n",
    "      return [len([x for x in arr if x>0]),sum(x for x in arr if x<0)] if arr else []\n",
    "\n",
    "test.assert_equals(count_positives_sum_negatives([1, 2, 3, 4, 5, 6, 7, 8, 9, 10, -11, -12, -13, -14, -15]),[10,-65])\n",
    "test.assert_equals(count_positives_sum_negatives([0, 2, 3, 0, 5, 6, 7, 8, 9, 10, -11, -12, -13, -14]),[8,-50])\n",
    "test.assert_equals(count_positives_sum_negatives([1]),[1,0])\n",
    "test.assert_equals(count_positives_sum_negatives([-1]),[0,-1])\n",
    "test.assert_equals(count_positives_sum_negatives([0,0,0,0,0,0,0,0,0]),[0,0])\n",
    "test.assert_equals(count_positives_sum_negatives([]),[])"
   ]
  },
  {
   "cell_type": "code",
   "execution_count": 163,
   "id": "supreme-floating",
   "metadata": {},
   "outputs": [
    {
     "name": "stdout",
     "output_type": "stream",
     "text": [
      "* True 8j8mBliB8gimjB8B8jlB \n",
      "\n",
      "* True 88Bifk8hB8BB8BBBB888chl8BhBfd \n",
      "\n",
      "* True 8aaaaaddddr \n",
      "\n",
      "* True jfBmgklf8hg88lbe8 \n",
      "\n",
      "* True 8jaam \n",
      "\n"
     ]
    }
   ],
   "source": [
    "def no_space(x):\n",
    "    #return ''.join(x.split())\n",
    "    return x.replace(' ','')\n",
    "\n",
    "test.assert_equals(no_space('8 j 8   mBliB8g  imjB8B8  jl  B'), '8j8mBliB8gimjB8B8jlB')\n",
    "test.assert_equals(no_space('8 8 Bi fk8h B 8 BB8B B B  B888 c hl8 BhB fd'), '88Bifk8hB8BB8BBBB888chl8BhBfd')\n",
    "test.assert_equals(no_space('8aaaaa dddd r     '), '8aaaaaddddr')\n",
    "test.assert_equals(no_space('jfBm  gk lf8hg  88lbe8 '), 'jfBmgklf8hg88lbe8') \n",
    "test.assert_equals(no_space('8j aam'), '8jaam')"
   ]
  },
  {
   "cell_type": "code",
   "execution_count": 203,
   "id": "composed-purse",
   "metadata": {},
   "outputs": [
    {
     "name": "stdout",
     "output_type": "stream",
     "text": [
      "* True True \n",
      "\n",
      "* True False \n",
      "\n",
      "* True False \n",
      "\n"
     ]
    }
   ],
   "source": [
    "def has_unique_chars(string):\n",
    "    return len(string)==len(set(string))\n",
    "Test.assert_equals(has_unique_chars(\"abcdef\"),True)\n",
    "Test.assert_equals(has_unique_chars(\"++-\"),False)\n",
    "Test.assert_equals(has_unique_chars(\"  nAa\"),False)"
   ]
  },
  {
   "cell_type": "code",
   "execution_count": 208,
   "id": "iraqi-authentication",
   "metadata": {},
   "outputs": [
    {
     "name": "stdout",
     "output_type": "stream",
     "text": [
      "* True 22 \n",
      "\n",
      "* True 5 \n",
      "\n",
      "* True 0 \n",
      "\n",
      "* True 20 \n",
      "\n",
      "* True 29 \n",
      "\n"
     ]
    }
   ],
   "source": [
    "def twice_as_old(dad_years_old, son_years_old):\n",
    "    return abs(dad_years_old-son_years_old*2)\n",
    "    \n",
    "test.assert_equals(twice_as_old(36,7) , 22)\n",
    "test.assert_equals(twice_as_old(55,30) , 5)\n",
    "test.assert_equals(twice_as_old(42,21) , 0)\n",
    "test.assert_equals(twice_as_old(22,1) , 20)\n",
    "test.assert_equals(twice_as_old(29,0) , 29)"
   ]
  },
  {
   "cell_type": "code",
   "execution_count": 214,
   "id": "round-invitation",
   "metadata": {},
   "outputs": [
    {
     "name": "stdout",
     "output_type": "stream",
     "text": [
      "* True [1, 2, 3, 4, 5, 6, 7, 8] \n",
      "\n",
      "* True [1, 2, 3, 4, 5, 6, 7, 8, 9, 10] \n",
      "\n",
      "* True [1, 2, 3, 4, 5, 7, 9, 10, 11, 12] \n",
      "\n"
     ]
    }
   ],
   "source": [
    "def merge_arrays(arr1, arr2):\n",
    "    return sorted(set(arr1+arr2))\n",
    "\n",
    "test.assert_equals(merge_arrays([1,2,3,4], [5,6,7,8]), [1,2,3,4,5,6,7,8])\n",
    "test.assert_equals(merge_arrays([1,3,5,7,9], [10,8,6,4,2]), [1,2,3,4,5,6,7,8,9,10])\n",
    "test.assert_equals(merge_arrays([1,3,5,7,9,11,12], [1,2,3,4,5,10,12]), [1,2,3,4,5,7,9,10,11,12])"
   ]
  },
  {
   "cell_type": "code",
   "execution_count": 11,
   "id": "aging-taxation",
   "metadata": {},
   "outputs": [
    {
     "name": "stdout",
     "output_type": "stream",
     "text": [
      "* True 1 \n",
      "\n",
      "* True 2 \n",
      "\n",
      "* True 6 \n",
      "\n",
      "* True 12 \n",
      "\n",
      "* True 60 \n",
      "\n",
      "* True 60 \n",
      "\n",
      "* True 420 \n",
      "\n",
      "* True 840 \n",
      "\n",
      "* True 2520 \n",
      "\n",
      "* True 2520 \n",
      "\n"
     ]
    }
   ],
   "source": [
    "def smallest(n):\n",
    "    x, y, m = 1, 1, 1\n",
    "    while m <= n:\n",
    "        if x%m==0: m+=1;y=int(x)\n",
    "        else: x+=y\n",
    "    return x\n",
    "            \n",
    "test.assert_equals(smallest(1), 1,'Sorry, try again')\n",
    "test.assert_equals(smallest(2), 2,'Sorry, try again')\n",
    "test.assert_equals(smallest(3), 6,'Sorry, try again')\n",
    "test.assert_equals(smallest(4), 12,'Sorry, try again')\n",
    "test.assert_equals(smallest(5), 60,'Sorry, try again')\n",
    "test.assert_equals(smallest(6), 60,'Sorry, try again')\n",
    "test.assert_equals(smallest(7), 420,'Sorry, try again')\n",
    "test.assert_equals(smallest(8), 840,'Sorry, try again')\n",
    "test.assert_equals(smallest(9), 2520,'Sorry, try again')\n",
    "test.assert_equals(smallest(10), 2520,'Sorry, try again')"
   ]
  },
  {
   "cell_type": "code",
   "execution_count": 39,
   "id": "hollow-ferry",
   "metadata": {},
   "outputs": [
    {
     "name": "stdout",
     "output_type": "stream",
     "text": [
      "* True 2 \n",
      "\n",
      "* True 3 \n",
      "\n",
      "* True 5 \n",
      "\n",
      "* True 17 \n",
      "\n",
      "* True 191 \n",
      "\n",
      "* True 919 \n",
      "\n"
     ]
    }
   ],
   "source": [
    "def next_prime(n):\n",
    "    if n<=1: return 2\n",
    "    if n%2==0:n+=1\n",
    "    else:n+=2\n",
    "    for i in range(3,int(n**0.5)+1,2):\n",
    "        if n%i==0 and i<n: return next_prime(n+1)\n",
    "    return n\n",
    "\n",
    "Test.assert_equals(next_prime(0), 2)\n",
    "Test.assert_equals(next_prime(2), 3)\n",
    "Test.assert_equals(next_prime(3), 5)\n",
    "Test.assert_equals(next_prime(13), 17)\n",
    "Test.assert_equals(next_prime(181), 191)\n",
    "Test.assert_equals(next_prime(911), 919)"
   ]
  },
  {
   "cell_type": "code",
   "execution_count": 116,
   "id": "subsequent-helicopter",
   "metadata": {},
   "outputs": [],
   "source": [
    "def bin2dec(n):\n",
    "    return sum(n[i]*2**(len(n)-1-i) for i in range(len(n)))\n",
    "\n",
    "# def dec2bin(n):\n",
    "#     b=[]\n",
    "#     while n>=1:\n",
    "#         b.append(((n//2)%2))\n",
    "#         n=n//2\n",
    "#     return  b"
   ]
  },
  {
   "cell_type": "code",
   "execution_count": 222,
   "id": "linear-ivory",
   "metadata": {},
   "outputs": [
    {
     "name": "stdout",
     "output_type": "stream",
     "text": [
      "* True [12, 14, 55, 24] \n",
      "\n",
      "* True [72, 55, 24] \n",
      "\n",
      "* True ['Intuition', 'is', 'a', 'poor', 'guide'] \n",
      "\n"
     ]
    }
   ],
   "source": [
    "def inverse_slice(items, a, b):\n",
    "    return items[:a] + items[b:]\n",
    "test.assert_equals(inverse_slice([12, 14, 63, 72, 55, 24], 2, 4), [12, 14, 55, 24])\n",
    "test.assert_equals(inverse_slice([12, 14, 63, 72, 55, 24], 0, 3), [72, 55, 24])\n",
    "test.assert_equals(inverse_slice(['Intuition', 'is', 'a', 'poor', 'guide', 'when', 'facing', 'probabilistic', 'evidence'], 5, 13), ['Intuition', 'is', 'a', 'poor', 'guide'])"
   ]
  },
  {
   "cell_type": "code",
   "execution_count": 226,
   "id": "intended-satisfaction",
   "metadata": {},
   "outputs": [
    {
     "name": "stdout",
     "output_type": "stream",
     "text": [
      "* True UUUU \n",
      "\n",
      "* True GCAU \n",
      "\n",
      "* True GACCGCCGCC \n",
      "\n"
     ]
    }
   ],
   "source": [
    "def dna_to_rna(dna):\n",
    "    return dna.replace('T', 'U')\n",
    "\n",
    "test.assert_equals(dna_to_rna(\"TTTT\"), \"UUUU\")\n",
    "test.assert_equals(dna_to_rna(\"GCAT\"), \"GCAU\")\n",
    "test.assert_equals(dna_to_rna(\"GACCGCCGCC\"), \"GACCGCCGCC\")"
   ]
  },
  {
   "cell_type": "code",
   "execution_count": 266,
   "id": "sapphire-guyana",
   "metadata": {},
   "outputs": [
    {
     "name": "stdout",
     "output_type": "stream",
     "text": [
      "nb_dig \n",
      "\n",
      "Basic tests\n",
      "* True 4700 \n",
      "\n",
      "* True 9481 \n",
      "\n",
      "* True 7733 \n",
      "\n",
      "* True 11905 \n",
      "\n"
     ]
    }
   ],
   "source": [
    "def nb_dig(n, d):\n",
    "    counter=0\n",
    "    for i in range(n+1):\n",
    "        counter+=[int(j) for j in str(i**2)].count(d)\n",
    "    return counter\n",
    "                \n",
    "    \n",
    "Test.describe(\"nb_dig\")\n",
    "Test.it(\"Basic tests\") \t\n",
    "Test.assert_equals(nb_dig(5750, 0), 4700)\n",
    "Test.assert_equals(nb_dig(11011, 2), 9481)\n",
    "Test.assert_equals(nb_dig(12224, 8), 7733)\n",
    "Test.assert_equals(nb_dig(11549, 1), 11905)"
   ]
  },
  {
   "cell_type": "code",
   "execution_count": null,
   "id": "loaded-bikini",
   "metadata": {},
   "outputs": [],
   "source": []
  }
 ],
 "metadata": {
  "kernelspec": {
   "display_name": "Python 3",
   "language": "python",
   "name": "python3"
  },
  "language_info": {
   "codemirror_mode": {
    "name": "ipython",
    "version": 3
   },
   "file_extension": ".py",
   "mimetype": "text/x-python",
   "name": "python",
   "nbconvert_exporter": "python",
   "pygments_lexer": "ipython3",
   "version": "3.6.9"
  }
 },
 "nbformat": 4,
 "nbformat_minor": 5
}
