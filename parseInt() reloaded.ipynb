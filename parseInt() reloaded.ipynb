{
 "cells": [
  {
   "cell_type": "markdown",
   "id": "express-wells",
   "metadata": {},
   "source": [
    "In this kata we want to convert a string into an integer. The strings simply represent the numbers in words.\n",
    "\n",
    "Examples:\n",
    "\n",
    "\"one\" => 1\n",
    "\"twenty\" => 20\n",
    "\"two hundred forty-six\" => 246\n",
    "\"seven hundred eighty-three thousand nine hundred and nineteen\" => 783919\n",
    "Additional Notes:\n",
    "\n",
    "The minimum number is \"zero\" (inclusively)\n",
    "The maximum number, which must be supported is 1 million (inclusively)\n",
    "The \"and\" in e.g. \"one hundred and twenty-four\" is optional, in some cases it's present and in others it's not\n",
    "All tested numbers are valid, you don't need to validate them"
   ]
  },
  {
   "cell_type": "code",
   "execution_count": 104,
   "id": "charming-vacuum",
   "metadata": {},
   "outputs": [
    {
     "name": "stdout",
     "output_type": "stream",
     "text": [
      "1 1 True\n",
      "20 20 True\n",
      "246 246 True\n",
      "26359 26359 True\n",
      "35000 35000 True\n",
      "99999 99999 True\n"
     ]
    }
   ],
   "source": [
    "def parse_int(string):\n",
    "    string = string.replace('-',' ')\n",
    "    units = [\"zero\", \"one\", \"two\", \"three\", \"four\", \"five\", \"six\", \"seven\", \"eight\",\n",
    "            \"nine\", \"ten\", \"eleven\", \"twelve\", \"thirteen\", \"fourteen\", \"fifteen\",\n",
    "            \"sixteen\", \"seventeen\", \"eighteen\", \"nineteen\"]\n",
    "    tens = [\"\", \"\", \"twenty\", \"thirty\", \"forty\", \"fifty\", \"sixty\", \"seventy\", \"eighty\", \"ninety\"]\n",
    "    scales = [\"hundred\", \"thousand\", \"million\", \"billion\", \"trillion\"]\n",
    "    dic={};dic[\"and\"] = (1, 0)\n",
    "    for n, w in enumerate(units): dic[w] = (1, n)\n",
    "    for n, w in enumerate(tens): dic[w] = (1, n * 10)\n",
    "    for n, w in enumerate(scales): dic[w] = (10 ** (n * 3 or 2), 0)\n",
    "    val = result = 0\n",
    "    for n in string.split():\n",
    "        s, inc = dic[n]\n",
    "        val = val * s + inc\n",
    "        if s > 100: result += val; val = 0\n",
    "    return result + val\n",
    "\n",
    "\n",
    "numbers = ('one', 'twenty', 'two hundred forty-six', 'twenty-six thousand three hundred and fifty-nine',\n",
    "          'thirty-five thousand','ninety-nine thousand nine hundred and ninety-nine')\n",
    "result = (1,20,246,26359,35000,99999)\n",
    "for n in range(len(numbers)):\n",
    "    print(parse_int(numbers[n]),result[n],parse_int(numbers[n])==result[n])"
   ]
  }
 ],
 "metadata": {
  "kernelspec": {
   "display_name": "Python 3.6",
   "language": "python",
   "name": "python3.6"
  },
  "language_info": {
   "codemirror_mode": {
    "name": "ipython",
    "version": 3
   },
   "file_extension": ".py",
   "mimetype": "text/x-python",
   "name": "python",
   "nbconvert_exporter": "python",
   "pygments_lexer": "ipython3",
   "version": "3.6.9"
  }
 },
 "nbformat": 4,
 "nbformat_minor": 5
}
