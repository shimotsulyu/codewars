{
 "cells": [
  {
   "cell_type": "markdown",
   "id": "reasonable-stanford",
   "metadata": {},
   "source": [
    "Timmy & Sarah think they are in love, but around where they live, they will only know once they pick a flower each. If one of the flowers has an even number of petals and the other has an odd number of petals it means they are in love.\n",
    "\n",
    "Write a function that will take the number of petals of each flower and return true if they are in love and false if they aren't."
   ]
  },
  {
   "cell_type": "code",
   "execution_count": null,
   "id": "confirmed-venice",
   "metadata": {},
   "outputs": [],
   "source": [
    "def lovefunc( flower1, flower2 ):\n",
    "    return (flower1+flower2)%2!=0"
   ]
  }
 ],
 "metadata": {
  "kernelspec": {
   "display_name": "Python 3.6",
   "language": "python",
   "name": "python3.6"
  },
  "language_info": {
   "codemirror_mode": {
    "name": "ipython",
    "version": 3
   },
   "file_extension": ".py",
   "mimetype": "text/x-python",
   "name": "python",
   "nbconvert_exporter": "python",
   "pygments_lexer": "ipython3",
   "version": "3.6.9"
  }
 },
 "nbformat": 4,
 "nbformat_minor": 5
}
