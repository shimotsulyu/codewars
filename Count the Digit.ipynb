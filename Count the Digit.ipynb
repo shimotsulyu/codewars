{
 "cells": [
  {
   "cell_type": "markdown",
   "id": "assisted-webster",
   "metadata": {},
   "source": [
    "## Count the Digit\n",
    "Take an integer n (n >= 0) and a digit d (0 <= d <= 9) as an integer. Square all numbers k (0 <= k <= n) between 0 and n. Count the numbers of digits d used in the writing of all the k**2. Call nb_dig (or nbDig or ...) the function taking n and d as parameters and returning this count.\n",
    "\n",
    "Examples:\n",
    "```\n",
    "n = 10, d = 1, the k*k are 0, 1, 4, 9, 16, 25, 36, 49, 64, 81, 100\n",
    "We are using the digit 1 in 1, 16, 81, 100. The total count is then 4.\n",
    "\n",
    "nb_dig(25, 1):\n",
    "the numbers of interest are\n",
    "1, 4, 9, 10, 11, 12, 13, 14, 19, 21 which squared are 1, 16, 81, 100, 121, 144, 169, 196, 361, 441\n",
    "so there are 11 digits `1` for the squares of numbers between 0 and 25.\n",
    "```\n",
    "Note that 121 has twice the digit 1."
   ]
  },
  {
   "cell_type": "code",
   "execution_count": null,
   "id": "corporate-structure",
   "metadata": {},
   "outputs": [],
   "source": [
    "def nb_dig(n, d):\n",
    "    return sum(str(i*i).count(str(d)) for i in range(n+1))"
   ]
  }
 ],
 "metadata": {
  "kernelspec": {
   "display_name": "Python 3.6",
   "language": "python",
   "name": "python3.6"
  },
  "language_info": {
   "codemirror_mode": {
    "name": "ipython",
    "version": 3
   },
   "file_extension": ".py",
   "mimetype": "text/x-python",
   "name": "python",
   "nbconvert_exporter": "python",
   "pygments_lexer": "ipython3",
   "version": "3.6.9"
  }
 },
 "nbformat": 4,
 "nbformat_minor": 5
}
