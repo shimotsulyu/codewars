{
 "cells": [
  {
   "cell_type": "markdown",
   "id": "removed-myanmar",
   "metadata": {},
   "source": [
    "Being a bald man myself, I know the feeling of needing to keep it clean shaven. Nothing worse that a stray hair waving in the wind.\n",
    "\n",
    "You will be given a string(x). Clean shaved head is shown as \"-\" and stray hairs are shown as \"/\". Your task is to check the head for stray hairs and get rid of them.\n",
    "\n",
    "You should return the original string, but with any stray hairs removed. Keep count ot them though, as there is a second element you need to return:\n",
    "\n",
    "0 hairs --> \"Clean!\"\n",
    "1 hair --> \"Unicorn!\"\n",
    "2 hairs --> \"Homer!\"\n",
    "3-5 hairs --> \"Careless!\"\n",
    ">5 hairs --> \"Hobo!\"\n",
    "\n",
    "So for this head: \"------/------\" you shoud return:\n",
    "\n",
    "[\"-------------\", \"Unicorn\"]\n"
   ]
  },
  {
   "cell_type": "code",
   "execution_count": 1,
   "id": "knowing-judges",
   "metadata": {},
   "outputs": [],
   "source": [
    "def bald(s):\n",
    "    return ['-'*len(s),(\n",
    "    'Clean!' if s.count('/')==0 else\n",
    "    'Unicorn!' if s.count('/')==1 else\n",
    "    'Homer!' if s.count('/')==2 else\n",
    "    'Careless!' if s.count('/')<=5 else\n",
    "    'Hobo!')]"
   ]
  },
  {
   "cell_type": "code",
   "execution_count": null,
   "id": "entertaining-pickup",
   "metadata": {},
   "outputs": [],
   "source": []
  }
 ],
 "metadata": {
  "kernelspec": {
   "display_name": "Python 3.6",
   "language": "python",
   "name": "python3.6"
  },
  "language_info": {
   "codemirror_mode": {
    "name": "ipython",
    "version": 3
   },
   "file_extension": ".py",
   "mimetype": "text/x-python",
   "name": "python",
   "nbconvert_exporter": "python",
   "pygments_lexer": "ipython3",
   "version": "3.6.9"
  }
 },
 "nbformat": 4,
 "nbformat_minor": 5
}
