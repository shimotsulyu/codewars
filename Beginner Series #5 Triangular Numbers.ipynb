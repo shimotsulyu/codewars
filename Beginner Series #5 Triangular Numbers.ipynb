{
 "cells": [
  {
   "cell_type": "markdown",
   "id": "bound-voice",
   "metadata": {},
   "source": [
    "Triangular number is the amount of points that can fill equilateral triangle.\n",
    "\n",
    "Example: the number 6 is a triangular number because all sides of a triangle has the same amount of points.\n",
    "\n",
    "![alt text](http://puu.sh/nmoHB/4204fecf5d.png)\n",
    "\n",
    "```\n",
    "Hint!\n",
    "T(n) = n * (n + 1) / 2,\n",
    "n - is the size of one side.\n",
    "T(n) - is the triangular number.\n",
    "```\n",
    "Given a number 'T' from interval [1; 2147483646], find if it is triangular number or not.\n",
    "\n",
    "Appreciate the feedback!"
   ]
  },
  {
   "cell_type": "code",
   "execution_count": null,
   "id": "aggregate-honduras",
   "metadata": {},
   "outputs": [],
   "source": [
    "def is_triangular(t):\n",
    "    n = 1;Tn = n*(n+1)/2\n",
    "    while Tn<=t:\n",
    "        if t==Tn: return True\n",
    "        else:n+=1;Tn = n*(n+1)/2\n",
    "    return False"
   ]
  }
 ],
 "metadata": {
  "kernelspec": {
   "display_name": "Python 3.6",
   "language": "python",
   "name": "python3.6"
  },
  "language_info": {
   "codemirror_mode": {
    "name": "ipython",
    "version": 3
   },
   "file_extension": ".py",
   "mimetype": "text/x-python",
   "name": "python",
   "nbconvert_exporter": "python",
   "pygments_lexer": "ipython3",
   "version": "3.6.9"
  }
 },
 "nbformat": 4,
 "nbformat_minor": 5
}
