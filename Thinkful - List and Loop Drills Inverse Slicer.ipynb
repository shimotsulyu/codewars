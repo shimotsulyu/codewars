{
 "cells": [
  {
   "cell_type": "markdown",
   "id": "authorized-fifty",
   "metadata": {},
   "source": [
    "## Thinkful - List and Loop Drills: Inverse Slicer\n",
    "You're familiar with list slicing in Python and know, for example, that:\n",
    "```\n",
    ">>> ages = [12, 14, 63, 72, 55, 24]\n",
    ">>> ages[2:4]\n",
    "[63, 72]\n",
    ">>> ages[2:]\n",
    "[63, 72, 55, 24]\n",
    ">>> ages[:3]\n",
    "[12, 14, 63]\n",
    "```\n",
    "write a function inverse_slice() that takes three arguments: a list items, an integer a and an integer b. The function should return a new list with the slice specified by items[a:b] excluded. For example:\n",
    "```\n",
    ">>>inverse_slice([12, 14, 63, 72, 55, 24], 2, 4)\n",
    "[12, 14, 55, 24]\n",
    "```\n",
    "The input will always be a valid list, a and b will always be different integers equal to or greater than zero, but they may be zero or be larger than the length of the list."
   ]
  },
  {
   "cell_type": "code",
   "execution_count": null,
   "id": "assigned-acquisition",
   "metadata": {},
   "outputs": [],
   "source": [
    "def inverse_slice(items, a, b):\n",
    "    return items[:a] + items[b:]"
   ]
  }
 ],
 "metadata": {
  "kernelspec": {
   "display_name": "Python 3.6",
   "language": "python",
   "name": "python3.6"
  },
  "language_info": {
   "codemirror_mode": {
    "name": "ipython",
    "version": 3
   },
   "file_extension": ".py",
   "mimetype": "text/x-python",
   "name": "python",
   "nbconvert_exporter": "python",
   "pygments_lexer": "ipython3",
   "version": "3.6.9"
  }
 },
 "nbformat": 4,
 "nbformat_minor": 5
}
