{
 "cells": [
  {
   "cell_type": "markdown",
   "id": "behind-ground",
   "metadata": {},
   "source": [
    "### Personalized greeting\n",
    "Create a function that gives a personalized greeting. This function takes two parameters: name and owner.\n",
    "\n",
    "Use conditionals to return the proper message:\n",
    "\n",
    "| case          \t| return        |\n",
    "| ----------------- | ------------- |\n",
    "| name equals owner | 'Hello boss'  |\n",
    "| otherwise         | 'Hello guest' |"
   ]
  },
  {
   "cell_type": "code",
   "execution_count": null,
   "id": "separate-visiting",
   "metadata": {},
   "outputs": [],
   "source": [
    "def greet(name, owner):\n",
    "    return 'Hello boss' if name==owner else 'Hello guest'"
   ]
  }
 ],
 "metadata": {
  "kernelspec": {
   "display_name": "Python 3.6",
   "language": "python",
   "name": "python3.6"
  },
  "language_info": {
   "codemirror_mode": {
    "name": "ipython",
    "version": 3
   },
   "file_extension": ".py",
   "mimetype": "text/x-python",
   "name": "python",
   "nbconvert_exporter": "python",
   "pygments_lexer": "ipython3",
   "version": "3.6.9"
  }
 },
 "nbformat": 4,
 "nbformat_minor": 5
}
