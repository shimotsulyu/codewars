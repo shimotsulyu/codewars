{
 "cells": [
  {
   "cell_type": "markdown",
   "id": "limited-shakespeare",
   "metadata": {},
   "source": [
    "write me a function stringy that takes a size and returns a string of alternating '1s' and '0s'.\n",
    "\n",
    "the string should start with a 1.\n",
    "\n",
    "a string with size 6 should return :'101010'.\n",
    "\n",
    "with size 4 should return : '1010'.\n",
    "\n",
    "with size 12 should return : '101010101010'.\n",
    "\n",
    "The size will always be positive and will only use whole numbers."
   ]
  },
  {
   "cell_type": "code",
   "execution_count": null,
   "id": "illegal-difference",
   "metadata": {},
   "outputs": [],
   "source": [
    "def stringy(size):\n",
    "    return ('10' * size)[:size]"
   ]
  }
 ],
 "metadata": {
  "kernelspec": {
   "display_name": "Python 3.6",
   "language": "python",
   "name": "python3.6"
  },
  "language_info": {
   "codemirror_mode": {
    "name": "ipython",
    "version": 3
   },
   "file_extension": ".py",
   "mimetype": "text/x-python",
   "name": "python",
   "nbconvert_exporter": "python",
   "pygments_lexer": "ipython3",
   "version": "3.6.9"
  }
 },
 "nbformat": 4,
 "nbformat_minor": 5
}
