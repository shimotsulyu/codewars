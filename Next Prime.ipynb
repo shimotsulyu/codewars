{
 "cells": [
  {
   "cell_type": "markdown",
   "id": "fitting-newfoundland",
   "metadata": {},
   "source": [
    "## Next Prime\n",
    "Get the next prime number!\n",
    "\n",
    "You will get a numbern (>= 0) and your task is to find the next prime number.\n",
    "\n",
    "Make sure to optimize your code: there will numbers tested up to about 10^12.\n",
    "\n",
    "Examples\n",
    "```\n",
    "5   =>  7\n",
    "12  =>  13\n",
    "```"
   ]
  },
  {
   "cell_type": "code",
   "execution_count": null,
   "id": "rolled-envelope",
   "metadata": {},
   "outputs": [],
   "source": [
    "def next_prime(n):\n",
    "    if n<=1: return 2\n",
    "    if n%2==0:n+=1\n",
    "    else:n+=2\n",
    "    for i in range(3,int(n**0.5)+1,2):\n",
    "        if n%i==0 and i<n: return next_prime(n+1)\n",
    "    return n"
   ]
  }
 ],
 "metadata": {
  "kernelspec": {
   "display_name": "Python 3.6",
   "language": "python",
   "name": "python3.6"
  },
  "language_info": {
   "codemirror_mode": {
    "name": "ipython",
    "version": 3
   },
   "file_extension": ".py",
   "mimetype": "text/x-python",
   "name": "python",
   "nbconvert_exporter": "python",
   "pygments_lexer": "ipython3",
   "version": "3.6.9"
  }
 },
 "nbformat": 4,
 "nbformat_minor": 5
}
