{
 "cells": [
  {
   "cell_type": "markdown",
   "id": "preliminary-suspect",
   "metadata": {},
   "source": [
    "Write a function that takes a positive integer n, sums all the cubed values from 1 to n, and returns that sum.\n",
    "\n",
    "Assume that the input n will always be a positive integer.\n",
    "\n",
    "Examples:\n",
    "```\n",
    "sumCubes(2) // 9\n",
    "// sum of the cubes of 1 and 2 is 1 + 8\n",
    "```"
   ]
  },
  {
   "cell_type": "code",
   "execution_count": null,
   "id": "built-criticism",
   "metadata": {},
   "outputs": [],
   "source": [
    "def sum_cubes(n):\n",
    "    return(sum([i**3 for i in range(n+1)]))"
   ]
  }
 ],
 "metadata": {
  "kernelspec": {
   "display_name": "Python 3.6",
   "language": "python",
   "name": "python3.6"
  },
  "language_info": {
   "codemirror_mode": {
    "name": "ipython",
    "version": 3
   },
   "file_extension": ".py",
   "mimetype": "text/x-python",
   "name": "python",
   "nbconvert_exporter": "python",
   "pygments_lexer": "ipython3",
   "version": "3.6.9"
  }
 },
 "nbformat": 4,
 "nbformat_minor": 5
}
