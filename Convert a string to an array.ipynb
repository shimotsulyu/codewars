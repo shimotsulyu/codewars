{
 "cells": [
  {
   "cell_type": "markdown",
   "id": "protective-tomato",
   "metadata": {},
   "source": [
    "## Convert string to an array\n",
    "Write a function to split a string and convert it into an array of words. For example:\n",
    "\n",
    "```\n",
    "\"Robin Singh\" ==> [\"Robin\", \"Singh\"]\n",
    "\n",
    "\"I love arrays they are my favorite\" ==> [\"I\", \"love\", \"arrays\", \"they\", \"are\", \"my\", \"favorite\"]\n",
    "```"
   ]
  },
  {
   "cell_type": "code",
   "execution_count": null,
   "id": "creative-gathering",
   "metadata": {},
   "outputs": [],
   "source": [
    "def string_to_array(s):\n",
    "    return s.split(' ')"
   ]
  }
 ],
 "metadata": {
  "kernelspec": {
   "display_name": "Python 3.6",
   "language": "python",
   "name": "python3.6"
  },
  "language_info": {
   "codemirror_mode": {
    "name": "ipython",
    "version": 3
   },
   "file_extension": ".py",
   "mimetype": "text/x-python",
   "name": "python",
   "nbconvert_exporter": "python",
   "pygments_lexer": "ipython3",
   "version": "3.6.9"
  }
 },
 "nbformat": 4,
 "nbformat_minor": 5
}
