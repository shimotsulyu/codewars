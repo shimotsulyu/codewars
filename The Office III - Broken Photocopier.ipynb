{
 "cells": [
  {
   "cell_type": "code",
   "execution_count": null,
   "id": "nervous-philosophy",
   "metadata": {},
   "outputs": [],
   "source": []
  },
  {
   "cell_type": "code",
   "execution_count": 12,
   "id": "controversial-hopkins",
   "metadata": {},
   "outputs": [
    {
     "data": {
      "text/plain": [
       "'110000001100110001010000010110'"
      ]
     },
     "execution_count": 12,
     "metadata": {},
     "output_type": "execute_result"
    }
   ],
   "source": [
    "def broken(inp):\n",
    "    return ''.join(['1' if i== '0' else '0' for i in inp])\n",
    "broken('001111110011001110101111101001')"
   ]
  },
  {
   "cell_type": "code",
   "execution_count": null,
   "id": "resistant-gross",
   "metadata": {},
   "outputs": [],
   "source": []
  }
 ],
 "metadata": {
  "kernelspec": {
   "display_name": "Python 3.6",
   "language": "python",
   "name": "python3.6"
  },
  "language_info": {
   "codemirror_mode": {
    "name": "ipython",
    "version": 3
   },
   "file_extension": ".py",
   "mimetype": "text/x-python",
   "name": "python",
   "nbconvert_exporter": "python",
   "pygments_lexer": "ipython3",
   "version": "3.6.9"
  }
 },
 "nbformat": 4,
 "nbformat_minor": 5
}
