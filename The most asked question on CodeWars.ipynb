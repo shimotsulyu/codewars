{
 "cells": [
  {
   "cell_type": "markdown",
   "id": "liable-tribune",
   "metadata": {},
   "source": [
    "What is the most asked question on CodeWars?\n",
    "\n",
    "> Can someone explain /*...*/?\n",
    "\n",
    "You need to write a function detect that will check if a string starts with Can someone explain, case sensitive. Return true if so, false otherwise.\n",
    "\n",
    "Let's hope you don't write a solution that makes people ask that question at you!"
   ]
  },
  {
   "cell_type": "code",
   "execution_count": null,
   "id": "hungarian-campbell",
   "metadata": {},
   "outputs": [],
   "source": [
    "def detect(comment):\n",
    "    return comment.find('Can someone explain') == 0"
   ]
  }
 ],
 "metadata": {
  "kernelspec": {
   "display_name": "Python 3.6",
   "language": "python",
   "name": "python3.6"
  },
  "language_info": {
   "codemirror_mode": {
    "name": "ipython",
    "version": 3
   },
   "file_extension": ".py",
   "mimetype": "text/x-python",
   "name": "python",
   "nbconvert_exporter": "python",
   "pygments_lexer": "ipython3",
   "version": "3.6.9"
  }
 },
 "nbformat": 4,
 "nbformat_minor": 5
}
