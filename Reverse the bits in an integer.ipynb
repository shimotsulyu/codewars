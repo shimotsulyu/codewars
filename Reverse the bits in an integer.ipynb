{
 "cells": [
  {
   "cell_type": "markdown",
   "id": "informational-merit",
   "metadata": {},
   "source": [
    "Write a function that reverses the bits in an integer.\n",
    "\n",
    "For example, the number 417 is 110100001 in binary. Reversing the binary is 100001011 which is 267.\n",
    "\n",
    "You can assume that the number is not negative."
   ]
  },
  {
   "cell_type": "code",
   "execution_count": null,
   "id": "invisible-ceiling",
   "metadata": {},
   "outputs": [],
   "source": [
    "def reverse_bits(n):\n",
    "    return int(bin(n)[:1:-1],2)"
   ]
  }
 ],
 "metadata": {
  "kernelspec": {
   "display_name": "Python 3.6",
   "language": "python",
   "name": "python3.6"
  },
  "language_info": {
   "codemirror_mode": {
    "name": "ipython",
    "version": 3
   },
   "file_extension": ".py",
   "mimetype": "text/x-python",
   "name": "python",
   "nbconvert_exporter": "python",
   "pygments_lexer": "ipython3",
   "version": "3.6.9"
  }
 },
 "nbformat": 4,
 "nbformat_minor": 5
}
