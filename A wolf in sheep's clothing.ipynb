{
 "cells": [
  {
   "cell_type": "markdown",
   "id": "precious-comparison",
   "metadata": {},
   "source": [
    "Wolves have been reintroduced to Great Britain. You are a sheep farmer, and are now plagued by wolves which pretend to be sheep. Fortunately, you are good at spotting them.\n",
    "\n",
    "Warn the sheep in front of the wolf that it is about to be eaten. Remember that you are standing at the front of the queue which is at the end of the array:\n",
    "\n",
    "> [sheep, sheep, sheep, sheep, sheep, wolf, sheep, sheep]      (YOU ARE HERE AT THE FRONT OF THE QUEUE)\n",
    "   7      6      5      4      3            2      1\n",
    "\n",
    "If the wolf is the closest animal to you, return \"Pls go away and stop eating my sheep\". Otherwise, return \"Oi! Sheep number N! You are about to be eaten by a wolf!\" where N is the sheep's position in the queue.\n",
    "\n",
    "Note: there will always be exactly one wolf in the array.\n",
    "\n",
    "### Examples\n",
    "Input: [\"sheep\", \"sheep\", \"sheep\", \"wolf\", \"sheep\"]\n",
    "Output: \"Oi! Sheep number 1! You are about to be eaten by a wolf!\"\n",
    "\n",
    "Input: [\"sheep\", \"sheep\", \"wolf\"]\n",
    "Output: \"Pls go away and stop eating my sheep\""
   ]
  },
  {
   "cell_type": "code",
   "execution_count": null,
   "id": "graduate-shore",
   "metadata": {},
   "outputs": [],
   "source": [
    "def warn_the_sheep(queue):\n",
    "    for i in range(len(queue)-1):\n",
    "        if queue[i]=='wolf':\n",
    "            return 'Oi! Sheep number {}! You are about to be eaten by a wolf!'.format(len(queue)-i-1)\n",
    "    return 'Pls go away and stop eating my sheep'"
   ]
  }
 ],
 "metadata": {
  "kernelspec": {
   "display_name": "Python 3.6",
   "language": "python",
   "name": "python3.6"
  },
  "language_info": {
   "codemirror_mode": {
    "name": "ipython",
    "version": 3
   },
   "file_extension": ".py",
   "mimetype": "text/x-python",
   "name": "python",
   "nbconvert_exporter": "python",
   "pygments_lexer": "ipython3",
   "version": "3.6.9"
  }
 },
 "nbformat": 4,
 "nbformat_minor": 5
}
