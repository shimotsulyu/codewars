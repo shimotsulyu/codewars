{
 "cells": [
  {
   "cell_type": "markdown",
   "id": "latter-routine",
   "metadata": {},
   "source": [
    "Remember the triangle of balls in billiards? To build a classic triangle (5 levels) you need 15 balls. With 3 balls you can build a 2-level triangle, etc.\n",
    "\n",
    "For more examples,\n",
    "```\n",
    "pyramid(1) == 1\n",
    "\n",
    "pyramid(3) == 2\n",
    "\n",
    "pyramid(6) == 3\n",
    "\n",
    "pyramid(10) == 4\n",
    "\n",
    "pyramid(15) == 5\n",
    "```"
   ]
  },
  {
   "cell_type": "code",
   "execution_count": null,
   "id": "saving-knife",
   "metadata": {},
   "outputs": [],
   "source": [
    "def pyramid(balls,i=1):\n",
    "    if balls-i<=i: return i\n",
    "    return pyramid(balls-i,i=i+1)"
   ]
  }
 ],
 "metadata": {
  "kernelspec": {
   "display_name": "Python 3.6",
   "language": "python",
   "name": "python3.6"
  },
  "language_info": {
   "codemirror_mode": {
    "name": "ipython",
    "version": 3
   },
   "file_extension": ".py",
   "mimetype": "text/x-python",
   "name": "python",
   "nbconvert_exporter": "python",
   "pygments_lexer": "ipython3",
   "version": "3.6.9"
  }
 },
 "nbformat": 4,
 "nbformat_minor": 5
}
