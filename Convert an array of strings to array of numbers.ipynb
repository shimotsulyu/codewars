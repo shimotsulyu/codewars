{
 "cells": [
  {
   "cell_type": "markdown",
   "id": "interim-henry",
   "metadata": {},
   "source": [
    "### Oh no!\n",
    "\n",
    "Some really funny web dev gave you a sequence of numbers from his API response as an sequence of strings!\n",
    "\n",
    "You need to cast the whole array to the correct type.\n",
    "\n",
    "Create the function that takes as a parameter a sequence of numbers represented as strings and outputs a sequence of numbers.\n",
    "\n",
    "ie:[\"1\", \"2\", \"3\"] to [1, 2, 3]\n",
    "\n",
    "Note that you can receive floats as well.\n",
    "\n"
   ]
  },
  {
   "cell_type": "code",
   "execution_count": null,
   "id": "numerous-honey",
   "metadata": {},
   "outputs": [],
   "source": [
    "def to_float_array(arr): \n",
    "    return [float(i) for i in arr]"
   ]
  }
 ],
 "metadata": {
  "kernelspec": {
   "display_name": "Python 3.6",
   "language": "python",
   "name": "python3.6"
  },
  "language_info": {
   "codemirror_mode": {
    "name": "ipython",
    "version": 3
   },
   "file_extension": ".py",
   "mimetype": "text/x-python",
   "name": "python",
   "nbconvert_exporter": "python",
   "pygments_lexer": "ipython3",
   "version": "3.6.9"
  }
 },
 "nbformat": 4,
 "nbformat_minor": 5
}
