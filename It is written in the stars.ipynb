{
 "cells": [
  {
   "cell_type": "markdown",
   "id": "expected-silly",
   "metadata": {},
   "source": [
    "Were you ever interested in the phenomena of astrology, star signs, tarot, voodoo ? (ok not voodoo that's too spooky)...\n",
    "Task:\n",
    "Your job for today is to finish the starSign function by finding the astrological sign, given the birth details as a Date object.\n",
    "Start and end dates for zodiac signs vary on different resources so we will use this table to get consistent results:\n",
    "```\n",
    "Aquarius ------ 21 January - 19 February\n",
    "Pisces --------- 20 February - 20 March\n",
    "Aries ---------- 21 March - 20 April\n",
    "Taurus -------- 21 April - 21 May\n",
    "Gemini -------- 22 May - 21 June\n",
    "Cancer -------- 22 June - 22 July\n",
    "Leo ------------- 23 July - 23 August\n",
    "Virgo ----------- 24 August - 23 September\n",
    "Libra ----------- 24 September - 23 October\n",
    "Scorpio -------- 24 October - 22 November\n",
    "Sagittarius ---- 23 November - 21 December\n",
    "Capricorn ----- 22 December - 20 January\n",
    "```\n",
    "Test info: 100 random tests (dates range from January 1st 1940 until now)"
   ]
  },
  {
   "cell_type": "code",
   "execution_count": null,
   "id": "celtic-tract",
   "metadata": {},
   "outputs": [],
   "source": [
    "def star_sign(date):\n",
    "    Sign = ('Aquarius', 'Pisces', 'Aries', 'Taurus', 'Gemini', 'Cancer', 'Leo', 'Virgo', 'Libra', 'Scorpio', 'Sagittarius', 'Capricorn')\n",
    "    return Sign[date.month-1] if date.day>=(21, 20, 21, 21, 22, 22, 23, 24, 24, 24, 23, 22)[date.month-1] else Sign[date.month-2]"
   ]
  }
 ],
 "metadata": {
  "kernelspec": {
   "display_name": "Python 3.6",
   "language": "python",
   "name": "python3.6"
  },
  "language_info": {
   "codemirror_mode": {
    "name": "ipython",
    "version": 3
   },
   "file_extension": ".py",
   "mimetype": "text/x-python",
   "name": "python",
   "nbconvert_exporter": "python",
   "pygments_lexer": "ipython3",
   "version": "3.6.9"
  }
 },
 "nbformat": 4,
 "nbformat_minor": 5
}
