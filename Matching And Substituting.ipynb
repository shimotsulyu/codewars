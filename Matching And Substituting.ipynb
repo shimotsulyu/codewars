{
 "cells": [
  {
   "cell_type": "markdown",
   "id": "assigned-gallery",
   "metadata": {},
   "source": [
    "Here we will work with strings like the string data above and not with files.\n",
    "\n",
    "The function change(s, prog, version) given:\n",
    "\n",
    "s=data, prog=\"Ladder\" , version=\"1.1\" will return:\n",
    "\n",
    "\"Program: Ladder Author: g964 Phone: +1-503-555-0090 Date: 2019-01-01 Version: 1.1\"\n",
    "\n",
    "Rules:\n",
    "\n",
    "The date should always be \"2019-01-01\".\n",
    "\n",
    "The author should always be \"g964\".\n",
    "\n",
    "Replace the current \"Program Title\" with the prog argument supplied to your function. Also remove \"Title\", so in the example case \"Program Title: Primes\" becomes \"Program: Ladder\".\n",
    "\n",
    "Remove the lines containing \"Corporation\" and \"Level\" completely.\n",
    "\n",
    "Phone numbers and versions must be in valid formats.\n",
    "\n",
    "A valid version in the input string data is one or more digits followed by a dot, followed by one or more digits. So 0.6, 5.4, 14.275 and 1.99 are all valid, but versions like .6, 5, 14.2.7 and 1.9.9 are invalid.\n",
    "\n",
    "A valid input phone format is +1-xxx-xxx-xxxx, where each x is a digit.\n",
    "\n",
    "If the phone or version format is not valid, return \"ERROR: VERSION or PHONE\".\n",
    "\n",
    "If the version format is valid and the version is anything other than 2.0, replace it with the version parameter supplied to your function. If it’s 2.0, don’t modify it.\n",
    "\n",
    "If the phone number is valid, replace it with \"+1-503-555-0090\".\n",
    "\n",
    "Note\n",
    "You can see other examples in the \"Sample tests\"."
   ]
  },
  {
   "cell_type": "code",
   "execution_count": 117,
   "id": "acoustic-respect",
   "metadata": {},
   "outputs": [
    {
     "data": {
      "text/plain": [
       "True"
      ]
     },
     "execution_count": 117,
     "metadata": {},
     "output_type": "execute_result"
    }
   ],
   "source": [
    "def change(s, prog, version):\n",
    "    S = s.split('\\n')\n",
    "    p = 'Phone: +1-503-555-0090' if S[3][7:][0]=='+' and S[3][7:][1]=='1' and (S[3][7:][2] and S[3][7:][6] and S[3][7:][10])=='-' and len(S[3][7:])==15 else None\n",
    "    version = '2.0' if S[5] == 'Version: 2.0' else version\n",
    "    return 'ERROR: VERSION or PHONE' if S[5][9]=='.' or S[5].count('.')>1 or S[5].count('.')==0 or p is None else f'Program: {prog} Author: g964 {p} Date: 2019-01-01 Version: {version}'\n",
    "\n",
    "s1 = 'Program title: Primes\\nAuthor: Kern\\nCorporation: Gold\\nPhone: +1-503-555-0091\\nDate: Tues April 9, 2005\\nVersion: 6.7\\nLevel: Alpha'\n",
    "s11 = 'Program title: Hammer\\nAuthor: Tolkien\\nCorporation: IB\\nPhone: +1-503-555-0090\\nDate: Tues March 29, 2017\\nVersion: 2.0\\nLevel: Release'\n",
    "s12 = 'Program title: Primes\\nAuthor: Kern\\nCorporation: Gold\\nPhone: +1-503-555-009\\nDate: Tues April 9, 2005\\nVersion: 6.7\\nLevel: Alpha'\n",
    "\n",
    "change(s1, 'Ladder', '1.1') == 'Program: Ladder Author: g964 Phone: +1-503-555-0090 Date: 2019-01-01 Version: 1.1'\n",
    "change(s11, 'Balance', '1.5.6') == 'Program: Balance Author: g964 Phone: +1-503-555-0090 Date: 2019-01-01 Version: 2.0'\n",
    "change(s12, 'Ladder', '1.1') == 'ERROR: VERSION or PHONE'"
   ]
  },
  {
   "cell_type": "code",
   "execution_count": null,
   "id": "surrounded-affiliation",
   "metadata": {},
   "outputs": [],
   "source": []
  }
 ],
 "metadata": {
  "kernelspec": {
   "display_name": "Python 3.6",
   "language": "python",
   "name": "python3.6"
  },
  "language_info": {
   "codemirror_mode": {
    "name": "ipython",
    "version": 3
   },
   "file_extension": ".py",
   "mimetype": "text/x-python",
   "name": "python",
   "nbconvert_exporter": "python",
   "pygments_lexer": "ipython3",
   "version": "3.6.9"
  }
 },
 "nbformat": 4,
 "nbformat_minor": 5
}
