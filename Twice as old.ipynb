{
 "cells": [
  {
   "cell_type": "markdown",
   "id": "failing-contamination",
   "metadata": {},
   "source": [
    "## Twice as old\n",
    "\n",
    "Your function takes two arguments:\n",
    "\n",
    "1. current father's age (years)\n",
    "2. current age of his son (years)\n",
    "\n",
    "Сalculate how many years ago the father was twice as old as his son (or in how many years he will be twice as old)."
   ]
  },
  {
   "cell_type": "code",
   "execution_count": null,
   "id": "european-family",
   "metadata": {},
   "outputs": [],
   "source": [
    "def twice_as_old(dad_years_old, son_years_old):\n",
    "    return abs(dad_years_old-son_years_old*2)"
   ]
  }
 ],
 "metadata": {
  "kernelspec": {
   "display_name": "Python 3.6",
   "language": "python",
   "name": "python3.6"
  },
  "language_info": {
   "codemirror_mode": {
    "name": "ipython",
    "version": 3
   },
   "file_extension": ".py",
   "mimetype": "text/x-python",
   "name": "python",
   "nbconvert_exporter": "python",
   "pygments_lexer": "ipython3",
   "version": "3.6.9"
  }
 },
 "nbformat": 4,
 "nbformat_minor": 5
}
