{
 "cells": [
  {
   "cell_type": "markdown",
   "id": "earned-request",
   "metadata": {},
   "source": [
    "A simple kata, my first.\n",
    "simply tranform an array into a string, like so:\n",
    "\n",
    ">  transform([4, -56, true, \"box\"]) => \"4-56truebox\"\n",
    "\n",
    "have fun coding!"
   ]
  },
  {
   "cell_type": "code",
   "execution_count": null,
   "id": "pacific-cyprus",
   "metadata": {},
   "outputs": [],
   "source": [
    "def transform(s):\n",
    "    return ''.join([str(x) for x in s])"
   ]
  }
 ],
 "metadata": {
  "kernelspec": {
   "display_name": "Python 3.6",
   "language": "python",
   "name": "python3.6"
  },
  "language_info": {
   "codemirror_mode": {
    "name": "ipython",
    "version": 3
   },
   "file_extension": ".py",
   "mimetype": "text/x-python",
   "name": "python",
   "nbconvert_exporter": "python",
   "pygments_lexer": "ipython3",
   "version": "3.6.9"
  }
 },
 "nbformat": 4,
 "nbformat_minor": 5
}
