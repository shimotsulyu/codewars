{
 "cells": [
  {
   "cell_type": "markdown",
   "id": "congressional-quarterly",
   "metadata": {},
   "source": [
    "## Remove String Spaces\n",
    "Simple, remove the spaces from the string, then return the resultant string."
   ]
  },
  {
   "cell_type": "code",
   "execution_count": null,
   "id": "aerial-counter",
   "metadata": {},
   "outputs": [],
   "source": [
    "def no_space(x):\n",
    "    return x.replace(' ','')"
   ]
  }
 ],
 "metadata": {
  "kernelspec": {
   "display_name": "Python 3.6",
   "language": "python",
   "name": "python3.6"
  },
  "language_info": {
   "codemirror_mode": {
    "name": "ipython",
    "version": 3
   },
   "file_extension": ".py",
   "mimetype": "text/x-python",
   "name": "python",
   "nbconvert_exporter": "python",
   "pygments_lexer": "ipython3",
   "version": "3.6.9"
  }
 },
 "nbformat": 4,
 "nbformat_minor": 5
}
