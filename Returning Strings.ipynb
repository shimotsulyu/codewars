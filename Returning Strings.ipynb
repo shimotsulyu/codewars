{
 "cells": [
  {
   "cell_type": "markdown",
   "id": "residential-father",
   "metadata": {},
   "source": [
    "Make a function that will return a greeting statement that uses an input; your program should return, \"Hello, <name> how are you doing today?\".\n",
    "\n",
    "[Make sure you type the exact thing I wrote or the program may not execute properly]\n",
    "\n"
   ]
  },
  {
   "cell_type": "code",
   "execution_count": null,
   "id": "beautiful-kelly",
   "metadata": {},
   "outputs": [],
   "source": [
    "def greet(name):\n",
    "    return f'Hello, {name} how are you doing today?'"
   ]
  }
 ],
 "metadata": {
  "kernelspec": {
   "display_name": "Python 3.6",
   "language": "python",
   "name": "python3.6"
  },
  "language_info": {
   "codemirror_mode": {
    "name": "ipython",
    "version": 3
   },
   "file_extension": ".py",
   "mimetype": "text/x-python",
   "name": "python",
   "nbconvert_exporter": "python",
   "pygments_lexer": "ipython3",
   "version": "3.6.9"
  }
 },
 "nbformat": 4,
 "nbformat_minor": 5
}
