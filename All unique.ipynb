{
 "cells": [
  {
   "cell_type": "markdown",
   "id": "framed-trade",
   "metadata": {},
   "source": [
    "## All unique\n",
    "Write a program to determine if a string contains only unique characters. Return true if it does and false otherwise.\n",
    "\n",
    "The string may contain any of the 128 ASCII characters. Characters are case-sensitive, e.g. 'a' and 'A' are considered different characters."
   ]
  },
  {
   "cell_type": "code",
   "execution_count": 1,
   "id": "colonial-mainstream",
   "metadata": {},
   "outputs": [],
   "source": [
    "def has_unique_chars(string):\n",
    "    return len(string)==len(set(string))"
   ]
  }
 ],
 "metadata": {
  "kernelspec": {
   "display_name": "Python 3.6",
   "language": "python",
   "name": "python3.6"
  },
  "language_info": {
   "codemirror_mode": {
    "name": "ipython",
    "version": 3
   },
   "file_extension": ".py",
   "mimetype": "text/x-python",
   "name": "python",
   "nbconvert_exporter": "python",
   "pygments_lexer": "ipython3",
   "version": "3.6.9"
  }
 },
 "nbformat": 4,
 "nbformat_minor": 5
}
