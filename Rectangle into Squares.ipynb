{
 "cells": [
  {
   "cell_type": "markdown",
   "id": "liked-departure",
   "metadata": {},
   "source": [
    "The drawing below gives an idea of how to cut a given \"true\" rectangle into squares (\"true\" rectangle meaning that the two dimensions are different).\n",
    "\n",
    "![alt text](https://i.imgur.com/lk5vJ7sm.jpg)\n",
    "\n",
    "Can you translate this drawing into an algorithm?\n",
    "\n",
    "You will be given two dimensions\n",
    "\n",
    "a positive integer length\n",
    "a positive integer width\n",
    "You will return a collection or a string (depending on the language; Shell bash, PowerShell, Pascal and Fortran return a string) with the size of each of the squares.\n",
    "\n",
    "Examples in general form:\n",
    "(depending on the language)\n",
    "```\n",
    "  sqInRect(5, 3) should return [3, 2, 1, 1]\n",
    "  sqInRect(3, 5) should return [3, 2, 1, 1]\n",
    "  \n",
    "  You can see examples for your language in **\"SAMPLE TESTS\".**\n",
    "```\n",
    "Notes:\n",
    "- lng == wdth as a starting case would be an entirely different problem and the drawing is planned to be interpreted with lng != wdth. (See kata, Square into Squares. Protect trees! http://www.codewars.com/kata/54eb33e5bc1a25440d000891 for this problem).\n",
    "\n",
    "When the initial parameters are so that lng == wdth, the solution [lng] would be the most obvious but not in the spirit of this kata so, in that case, return None/nil/null/Nothing or return {} with C++, Array() with Scala, [] with Raku.\n",
    "\n",
    "- In that case the returned structure of C will have its sz component equal to 0.\n",
    "\n",
    "- Return the string \"nil\" with Bash, PowerShell, Pascal and Fortran."
   ]
  },
  {
   "cell_type": "code",
   "execution_count": null,
   "id": "willing-sailing",
   "metadata": {},
   "outputs": [],
   "source": [
    "def sqInRect(lng, wdth, count=0):\n",
    "    if lng==wdth: return (None,[wdth])[count]\n",
    "    return [min([lng,wdth])] + sqInRect(max([lng,wdth])-min([lng,wdth]),min([lng,wdth]),count=1)"
   ]
  }
 ],
 "metadata": {
  "kernelspec": {
   "display_name": "Python 3.6",
   "language": "python",
   "name": "python3.6"
  },
  "language_info": {
   "codemirror_mode": {
    "name": "ipython",
    "version": 3
   },
   "file_extension": ".py",
   "mimetype": "text/x-python",
   "name": "python",
   "nbconvert_exporter": "python",
   "pygments_lexer": "ipython3",
   "version": "3.6.9"
  }
 },
 "nbformat": 4,
 "nbformat_minor": 5
}
