{
 "cells": [
  {
   "cell_type": "markdown",
   "id": "cooked-pharmaceutical",
   "metadata": {},
   "source": [
    "Given an array of integers, return a new array with each value doubled.\n",
    "\n",
    "For example:\n",
    "\n",
    "[1, 2, 3] --> [2, 4, 6]\n",
    "\n",
    "For the beginner, try to use the map method - it comes in very handy quite a lot so is a good one to know."
   ]
  },
  {
   "cell_type": "code",
   "execution_count": null,
   "id": "patent-parallel",
   "metadata": {},
   "outputs": [],
   "source": [
    "def maps(a):\n",
    "    return [i*2 for i in a]"
   ]
  }
 ],
 "metadata": {
  "kernelspec": {
   "display_name": "Python 3.6",
   "language": "python",
   "name": "python3.6"
  },
  "language_info": {
   "codemirror_mode": {
    "name": "ipython",
    "version": 3
   },
   "file_extension": ".py",
   "mimetype": "text/x-python",
   "name": "python",
   "nbconvert_exporter": "python",
   "pygments_lexer": "ipython3",
   "version": "3.6.9"
  }
 },
 "nbformat": 4,
 "nbformat_minor": 5
}
