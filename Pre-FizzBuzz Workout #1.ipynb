{
 "cells": [
  {
   "cell_type": "markdown",
   "id": "tropical-parent",
   "metadata": {},
   "source": [
    "This is the first step to understanding FizzBuzz.\n",
    "\n",
    "Your inputs: a positive integer, n, greater than or equal to one. n is provided, you have NO CONTROL over its value.\n",
    "\n",
    "Your expected output is an array of positive integers from 1 to n (inclusive).\n",
    "\n",
    "Your job is to write an algorithm that gets you from the input to the output."
   ]
  },
  {
   "cell_type": "code",
   "execution_count": null,
   "id": "outer-providence",
   "metadata": {},
   "outputs": [],
   "source": [
    "def pre_fizz(n):\n",
    "    return list(range(1,n+1))"
   ]
  }
 ],
 "metadata": {
  "kernelspec": {
   "display_name": "Python 3.6",
   "language": "python",
   "name": "python3.6"
  },
  "language_info": {
   "codemirror_mode": {
    "name": "ipython",
    "version": 3
   },
   "file_extension": ".py",
   "mimetype": "text/x-python",
   "name": "python",
   "nbconvert_exporter": "python",
   "pygments_lexer": "ipython3",
   "version": "3.6.9"
  }
 },
 "nbformat": 4,
 "nbformat_minor": 5
}
