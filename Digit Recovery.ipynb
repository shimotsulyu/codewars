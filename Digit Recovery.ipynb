{
 "cells": [
  {
   "cell_type": "markdown",
   "id": "ideal-october",
   "metadata": {},
   "source": [
    "## Digit Recovery\n",
    "\n",
    "Some letters in the input string are representing a written-out digit. Some of the letters may randomly shuffled. Your task is to recover them all.\n",
    "\n",
    "Note that:\n",
    "\n",
    "- Only consecutive letters can be used. \"OTNE\" cannot be recovered to 1!\n",
    "- Every letter has to start with an increasing index.. \"ONENO\" results to 11, because the E can be used two times. Endless loops are not possible!\n",
    "- If there are letters in the string, which don't create a number you can ignore them.\n",
    "- If no digits can be found, return \"No digits found\"\n",
    "- Take care about the order! \"ENOWT\" will be recovered to 12 and not to 21.\n",
    "- The input string consists only UpperCase letters\n",
    "e.g.\n",
    "\n",
    "```\n",
    "recover(\"NEO\") =>  \"1\"\n",
    "recover(\"ONETWO\") => \"12\"\n",
    "recover(\"ONENO\") => \"11\"\n",
    "recover(\"TWWTONE\") => \"21\"\n",
    "recover(\"ZYX\") => \"No digits found\"\n",
    "recover(\"NEOTWONEINEIGHTOWSVEEN\") => \"12219827\"\n",
    "```\n",
    "\n",
    "You can use the following preloaded dictionary in your solution:\n",
    "\n",
    "\n",
    "> const alph = {\"ZERO\":0,\"ONE\":1,\"TWO\":2,\"THREE\":3,\"FOUR\":4,\"FIVE\":5,\"SIX\":6,\"SEVEN\":7,\"EIGHT\":8,\"NINE\":9};"
   ]
  },
  {
   "cell_type": "code",
   "execution_count": null,
   "id": "controlling-cherry",
   "metadata": {},
   "outputs": [],
   "source": [
    "def recover(st):\n",
    "    s=str()\n",
    "    for i in range(len(st)-2):\n",
    "        for k,t in alph.items():\n",
    "            if sorted(st[i:i+len(k)])==sorted(k): s+=str(t)\n",
    "    return s if s!='' else 'No digits found'"
   ]
  }
 ],
 "metadata": {
  "kernelspec": {
   "display_name": "Python 3.6",
   "language": "python",
   "name": "python3.6"
  },
  "language_info": {
   "codemirror_mode": {
    "name": "ipython",
    "version": 3
   },
   "file_extension": ".py",
   "mimetype": "text/x-python",
   "name": "python",
   "nbconvert_exporter": "python",
   "pygments_lexer": "ipython3",
   "version": "3.6.9"
  }
 },
 "nbformat": 4,
 "nbformat_minor": 5
}
