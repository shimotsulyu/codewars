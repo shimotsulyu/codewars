{
 "cells": [
  {
   "cell_type": "markdown",
   "id": "fossil-leader",
   "metadata": {},
   "source": [
    "In the following 6 digit number:\n",
    "\n",
    "> 283910\n",
    "\n",
    "91 is the greatest sequence of 2 consecutive digits.\n",
    "\n",
    "In the following 10 digit number:\n",
    "\n",
    "> 1234567890\n",
    "\n",
    "67890 is the greatest sequence of 5 consecutive digits.\n",
    "\n",
    "Complete the solution so that it returns the greatest sequence of five consecutive digits found within the number given. The number will be passed in as a string of only digits. It should return a five digit integer. The number passed may be as large as 1000 digits.\n",
    "\n",
    "Adapted from ProjectEuler.net"
   ]
  },
  {
   "cell_type": "code",
   "execution_count": null,
   "id": "chronic-taste",
   "metadata": {},
   "outputs": [],
   "source": [
    "def solution(digits):\n",
    "    s = 0\n",
    "    for i in range(len(digits)-4):\n",
    "        if s < int(digits[i:i+5]):s = int(digits[i:i+5])\n",
    "    return s"
   ]
  }
 ],
 "metadata": {
  "kernelspec": {
   "display_name": "Python 3.6",
   "language": "python",
   "name": "python3.6"
  },
  "language_info": {
   "codemirror_mode": {
    "name": "ipython",
    "version": 3
   },
   "file_extension": ".py",
   "mimetype": "text/x-python",
   "name": "python",
   "nbconvert_exporter": "python",
   "pygments_lexer": "ipython3",
   "version": "3.6.9"
  }
 },
 "nbformat": 4,
 "nbformat_minor": 5
}
