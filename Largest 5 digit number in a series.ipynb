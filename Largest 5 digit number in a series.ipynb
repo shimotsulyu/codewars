{
 "cells": [
  {
   "cell_type": "code",
   "execution_count": null,
   "id": "chronic-taste",
   "metadata": {},
   "outputs": [],
   "source": [
    "def solution(digits):\n",
    "    s = 0\n",
    "    for i in range(len(digits)-4):\n",
    "        if s < int(digits[i:i+5]):s = int(digits[i:i+5])\n",
    "    return s"
   ]
  }
 ],
 "metadata": {
  "kernelspec": {
   "display_name": "Python 3.6",
   "language": "python",
   "name": "python3.6"
  },
  "language_info": {
   "codemirror_mode": {
    "name": "ipython",
    "version": 3
   },
   "file_extension": ".py",
   "mimetype": "text/x-python",
   "name": "python",
   "nbconvert_exporter": "python",
   "pygments_lexer": "ipython3",
   "version": "3.6.9"
  }
 },
 "nbformat": 4,
 "nbformat_minor": 5
}
