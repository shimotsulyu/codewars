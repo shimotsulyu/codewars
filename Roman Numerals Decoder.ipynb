{
 "cells": [
  {
   "cell_type": "markdown",
   "id": "compact-hobby",
   "metadata": {},
   "source": [
    "Create a function that takes a Roman numeral as its argument and returns its value as a numeric decimal integer. You don't need to validate the form of the Roman numeral.\n",
    "\n",
    "Modern Roman numerals are written by expressing each decimal digit of the number to be encoded separately, starting with the leftmost digit and skipping any 0s. So 1990 is rendered \"MCMXC\" (1000 = M, 900 = CM, 90 = XC) and 2008 is rendered \"MMVIII\" (2000 = MM, 8 = VIII). The Roman numeral for 1666, \"MDCLXVI\", uses each letter in descending order.\n",
    "\n",
    "Example:\n",
    "\n",
    "> solution('XXI') # should return 21\n",
    "\n",
    "Help:\n",
    "\n",
    "```\n",
    "Symbol    Value\n",
    "I          1\n",
    "V          5\n",
    "X          10\n",
    "L          50\n",
    "C          100\n",
    "D          500\n",
    "M          1,000\n",
    "```\n",
    "Courtesy of rosettacode.org"
   ]
  },
  {
   "cell_type": "code",
   "execution_count": null,
   "id": "latter-persian",
   "metadata": {},
   "outputs": [],
   "source": [
    "def solution(roman):\n",
    "    symbol = {'I':1,'V':5,'X':10,'L':50,'C':100,'D':500,'M':1000,'IV':4,'IX':9,'XL':40,'XC':90,'CD':400,'CM':900}\n",
    "    s,i=0,0\n",
    "    while i<len(roman):\n",
    "        try:s+=symbol[roman[i:i+2]];i+=2\n",
    "        except:s+=symbol[roman[i:i+1]];i+=1\n",
    "    return s"
   ]
  }
 ],
 "metadata": {
  "kernelspec": {
   "display_name": "Python 3.6",
   "language": "python",
   "name": "python3.6"
  },
  "language_info": {
   "codemirror_mode": {
    "name": "ipython",
    "version": 3
   },
   "file_extension": ".py",
   "mimetype": "text/x-python",
   "name": "python",
   "nbconvert_exporter": "python",
   "pygments_lexer": "ipython3",
   "version": "3.6.9"
  }
 },
 "nbformat": 4,
 "nbformat_minor": 5
}
