{
 "cells": [
  {
   "cell_type": "code",
   "execution_count": null,
   "id": "tribal-dependence",
   "metadata": {},
   "outputs": [],
   "source": [
    "Given a non-empty array of integers, return the result of multiplying the values together in order. Example:\n",
    "\n",
    "> [1, 2, 3, 4] => 1 * 2 * 3 * 4 = 24"
   ]
  },
  {
   "cell_type": "code",
   "execution_count": null,
   "id": "informative-desperate",
   "metadata": {},
   "outputs": [],
   "source": [
    "def grow(arr):\n",
    "    s=1\n",
    "    for i in arr: s*=i\n",
    "    return s"
   ]
  }
 ],
 "metadata": {
  "kernelspec": {
   "display_name": "Python 3.6",
   "language": "python",
   "name": "python3.6"
  },
  "language_info": {
   "codemirror_mode": {
    "name": "ipython",
    "version": 3
   },
   "file_extension": ".py",
   "mimetype": "text/x-python",
   "name": "python",
   "nbconvert_exporter": "python",
   "pygments_lexer": "ipython3",
   "version": "3.6.9"
  }
 },
 "nbformat": 4,
 "nbformat_minor": 5
}
