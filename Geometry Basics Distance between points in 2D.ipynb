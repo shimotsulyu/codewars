{
 "cells": [
  {
   "cell_type": "markdown",
   "id": "found-fancy",
   "metadata": {},
   "source": [
    "This series of katas will introduce you to basics of doing geometry with computers.\n",
    "\n",
    "> Point objects have x and y attributes (X and Y in C#) attributes.\n",
    "\n",
    "Write a function calculating distance between Point a and Point b.\n",
    "\n",
    "Tests round answers to 6 decimal places.\n",
    "\n"
   ]
  },
  {
   "cell_type": "code",
   "execution_count": null,
   "id": "optimum-calculator",
   "metadata": {},
   "outputs": [],
   "source": [
    "def distance_between_points(a, b):\n",
    "    return ((b.x-a.x)**2+(b.y-a.y)**2)**0.5"
   ]
  }
 ],
 "metadata": {
  "kernelspec": {
   "display_name": "Python 3.6",
   "language": "python",
   "name": "python3.6"
  },
  "language_info": {
   "codemirror_mode": {
    "name": "ipython",
    "version": 3
   },
   "file_extension": ".py",
   "mimetype": "text/x-python",
   "name": "python",
   "nbconvert_exporter": "python",
   "pygments_lexer": "ipython3",
   "version": "3.6.9"
  }
 },
 "nbformat": 4,
 "nbformat_minor": 5
}
