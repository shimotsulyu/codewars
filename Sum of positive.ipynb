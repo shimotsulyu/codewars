{
 "cells": [
  {
   "cell_type": "markdown",
   "id": "about-appearance",
   "metadata": {},
   "source": [
    "You get an array of numbers, return the sum of all of the positives ones.\n",
    "\n",
    "Example [1,-4,7,12] => 1 + 7 + 12 = 20\n",
    "\n",
    "Note: if there is nothing to sum, the sum is default to 0."
   ]
  },
  {
   "cell_type": "code",
   "execution_count": null,
   "id": "hundred-findings",
   "metadata": {},
   "outputs": [],
   "source": [
    "def positive_sum(arr):\n",
    "    return sum([i for i in arr if i>0])"
   ]
  }
 ],
 "metadata": {
  "kernelspec": {
   "display_name": "Python 3.6",
   "language": "python",
   "name": "python3.6"
  },
  "language_info": {
   "codemirror_mode": {
    "name": "ipython",
    "version": 3
   },
   "file_extension": ".py",
   "mimetype": "text/x-python",
   "name": "python",
   "nbconvert_exporter": "python",
   "pygments_lexer": "ipython3",
   "version": "3.6.9"
  }
 },
 "nbformat": 4,
 "nbformat_minor": 5
}
