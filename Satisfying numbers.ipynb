{
 "cells": [
  {
   "cell_type": "markdown",
   "id": "mathematical-intake",
   "metadata": {},
   "source": [
    "## Satisfying numbers\n",
    "2520 is the smallest number that can be divided by each of the numbers from 1 to 10 without any remainder.\n",
    "Task:\n",
    "Write\n",
    "\n",
    "> smallest(n)\n",
    "\n",
    "that will find the smallest positive number that is evenly divisible by all of the numbers from 1 to n (n <= 40).\n",
    "E.g\n",
    "```\n",
    "smallest(5) == 60 # 1 to 5 can all divide evenly into 60\n",
    "smallest(10) == 2520\n",
    "```"
   ]
  },
  {
   "cell_type": "code",
   "execution_count": null,
   "id": "impaired-module",
   "metadata": {},
   "outputs": [],
   "source": [
    "def smallest(n):\n",
    "    x = m = 1\n",
    "    while m <= n:\n",
    "        if x%m==0: m+=1;i=x;\n",
    "        else: x+=i\n",
    "    return x"
   ]
  }
 ],
 "metadata": {
  "kernelspec": {
   "display_name": "Python 3.6",
   "language": "python",
   "name": "python3.6"
  },
  "language_info": {
   "codemirror_mode": {
    "name": "ipython",
    "version": 3
   },
   "file_extension": ".py",
   "mimetype": "text/x-python",
   "name": "python",
   "nbconvert_exporter": "python",
   "pygments_lexer": "ipython3",
   "version": "3.6.9"
  }
 },
 "nbformat": 4,
 "nbformat_minor": 5
}
