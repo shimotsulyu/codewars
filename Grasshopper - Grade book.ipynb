{
 "cells": [
  {
   "cell_type": "markdown",
   "id": "signed-midnight",
   "metadata": {},
   "source": [
    "#### Grade book\n",
    "\n",
    "Complete the function so that it finds the average of the three scores passed to it and returns the letter value associated with that grade.\n",
    "\n",
    "| Numerical Score\t | Letter Grade |\n",
    "| :----------------- | :-- |\n",
    "| 90 <= score <= 100 |\tA' |\n",
    "| 80 <= score < 90\t | 'B' | \n",
    "| 70 <= score < 80\t | 'C' |\n",
    "| 60 <= score < 70\t | 'D' |\n",
    "| 0 <= score < 60\t | 'F' |\n",
    "\n",
    "Tested values are all between 0 and 100. Theres is no need to check for negative values or values greater than 100."
   ]
  },
  {
   "cell_type": "code",
   "execution_count": null,
   "id": "comparative-maple",
   "metadata": {},
   "outputs": [],
   "source": [
    "def get_grade(s1, s2, s3):\n",
    "    for x in range(4):\n",
    "        if (s1+s2+s3)/3>=(90,80,70,60)[x]: return ('A','B','C','D')[x]\n",
    "    return 'F'"
   ]
  }
 ],
 "metadata": {
  "kernelspec": {
   "display_name": "Python 3.6",
   "language": "python",
   "name": "python3.6"
  },
  "language_info": {
   "codemirror_mode": {
    "name": "ipython",
    "version": 3
   },
   "file_extension": ".py",
   "mimetype": "text/x-python",
   "name": "python",
   "nbconvert_exporter": "python",
   "pygments_lexer": "ipython3",
   "version": "3.6.9"
  }
 },
 "nbformat": 4,
 "nbformat_minor": 5
}
