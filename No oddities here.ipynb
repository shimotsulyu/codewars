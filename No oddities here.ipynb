{
 "cells": [
  {
   "cell_type": "markdown",
   "id": "intellectual-coach",
   "metadata": {},
   "source": [
    "Write a small function that returns the values of an array that are not odd.\n",
    "\n",
    "All values in the array will be integers. Return the good values in the order they are given.\n",
    "\n",
    "> function noOdds( values )"
   ]
  },
  {
   "cell_type": "code",
   "execution_count": null,
   "id": "patient-illness",
   "metadata": {},
   "outputs": [],
   "source": [
    "def no_odds(values):\n",
    "    return [i for i in values if i%2==0]"
   ]
  }
 ],
 "metadata": {
  "kernelspec": {
   "display_name": "Python 3.6",
   "language": "python",
   "name": "python3.6"
  },
  "language_info": {
   "codemirror_mode": {
    "name": "ipython",
    "version": 3
   },
   "file_extension": ".py",
   "mimetype": "text/x-python",
   "name": "python",
   "nbconvert_exporter": "python",
   "pygments_lexer": "ipython3",
   "version": "3.6.9"
  }
 },
 "nbformat": 4,
 "nbformat_minor": 5
}
