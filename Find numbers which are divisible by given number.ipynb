{
 "cells": [
  {
   "cell_type": "markdown",
   "id": "cleared-closer",
   "metadata": {},
   "source": [
    "Complete the function which takes two arguments and returns all numbers which are divisible by the given divisor. First argument is an array of numbers and the second is the divisor.\n",
    "\n",
    "Example\n",
    "> divisibleBy([1, 2, 3, 4, 5, 6], 2) == [2, 4, 6]"
   ]
  },
  {
   "cell_type": "code",
   "execution_count": null,
   "id": "virtual-exercise",
   "metadata": {},
   "outputs": [],
   "source": [
    "def divisible_by(numbers, divisor):\n",
    "    return [i for i in numbers if i%divisor==0]"
   ]
  }
 ],
 "metadata": {
  "kernelspec": {
   "display_name": "Python 3.6",
   "language": "python",
   "name": "python3.6"
  },
  "language_info": {
   "codemirror_mode": {
    "name": "ipython",
    "version": 3
   },
   "file_extension": ".py",
   "mimetype": "text/x-python",
   "name": "python",
   "nbconvert_exporter": "python",
   "pygments_lexer": "ipython3",
   "version": "3.6.9"
  }
 },
 "nbformat": 4,
 "nbformat_minor": 5
}
